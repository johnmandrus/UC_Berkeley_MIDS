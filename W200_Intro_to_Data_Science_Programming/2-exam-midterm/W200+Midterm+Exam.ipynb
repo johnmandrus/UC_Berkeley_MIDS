{
 "cells": [
  {
   "cell_type": "markdown",
   "metadata": {},
   "source": [
    "## MIDTERM - W200 Introduction to Data Science Programming, UC Berkeley MIDS"
   ]
  },
  {
   "cell_type": "markdown",
   "metadata": {},
   "source": [
    "## Instructions\n",
    "The midterm exam is designed to evaluate your grasp of Python theory as well as Python coding.\n",
    "\n",
    "- This is an individual open book exam.\n",
    "- You have 24 hours to complete the exam and upload it back to ISVC, starting from the point when you first accessed it on ISVC.\n",
    "\n",
    "For the coding questions, follow best practices.  Partial credit may be given for submissions that are clearly commented and well organized."
   ]
  },
  {
   "cell_type": "markdown",
   "metadata": {},
   "source": [
    "# 1. Short Questions (15 pts)\n",
    "\n",
    "1.1. Python's dynamic typing allows one variable to refer to multiple types of objects within the same program execution.  This can speed program development.  Name one disadvantage of dynamic typing."
   ]
  },
  {
   "cell_type": "markdown",
   "metadata": {
    "collapsed": true
   },
   "source": [
    "If variables can refer to multiple types of objects within the same program execution, it can be easy to produce errors where functions or methods get different types of objects than expected. For example, a variable that starts as a list and is recast as an integer would produce an error if an unsuspecting programmer attempted to iterate over that variable, not knowing that it was no longer a list."
   ]
  },
  {
   "cell_type": "markdown",
   "metadata": {},
   "source": [
    "1.2. Compiled languages typically offer faster performance than interpreted languages. List two reasons why would you choose an interpreted language like Python for the purpose of analyzing a data set instead of a compiled language."
   ]
  },
  {
   "cell_type": "markdown",
   "metadata": {
    "collapsed": true
   },
   "source": [
    "An interpreted language like python offers a number of benefits over a compiled language, despide the reduction in performance.\n",
    "\n",
    "First, when reading data from files, Python will automatically transfer parts of that file to a memory buffer. This allows the programmer to access the data more quickly.\n",
    "\n",
    "Second, a benefit of the interpreter is that code written in Python generally works regardless of the platform it is operating on. Coding in a language such as C++ requires the programmer to be mindful of the different types of memory, processors, and other computer components. Using an interpreted language like python absolves the programmer of this responsibility an will likely come to benefit data scientists who work in large organizations that demand applications to be used over a wide variety of platforms. "
   ]
  },
  {
   "cell_type": "markdown",
   "metadata": {},
   "source": [
    "1.3. We have gone over FOR and WHILE loops.  Discuss one reason to use a for loop over a while loop and one reason to use a while loop over a for loop. Please elaborate beyond a single word."
   ]
  },
  {
   "cell_type": "markdown",
   "metadata": {
    "collapsed": true
   },
   "source": [
    "One reason to use a FOR loop over a WHILE loop is when a program is executing a preset number of iterations. An example of this is printing every value in a list one-by-one. This type of FOR loop can potentially be defined in a single line of code, while performing the same function in a WHILE loop would require the manual creation and iteration of a counter. Using a FOR loop in this instance saves the programmer time and effort.\n",
    "\n",
    "One reason to use a WHILE loop over a FOR loop is when it is unclear how many iterations are required to solve a problem. An example of this is error checking when anticipating a specific user input. A user may input the correct value on the first try, or they may take dozens of tries before inputing the correct value. This type of functionality is very difficult, and occasionally impossible, to implement in a FOR loop."
   ]
  },
  {
   "cell_type": "markdown",
   "metadata": {},
   "source": [
    "# 2. Programming Styles (10 pts)\n",
    "\n",
    "We have taught you a number of ways to program in Python. These have included using scripts versus functions and using Jupyter notebooks versus calling .py files from the command line. Describe a scenario in which you would use .py files from the command line over a Jupyter notebook and the opposite. Describe a scenario in which you would use a script versus a function and the opposite.  There are four cases and each answer should be about 1-2 sentences, explain why!"
   ]
  },
  {
   "cell_type": "markdown",
   "metadata": {},
   "source": [
    "2.1. I would use a Jupyter notebook:"
   ]
  },
  {
   "cell_type": "markdown",
   "metadata": {},
   "source": [
    "I would use a Jupyter notebook if I was creating a relatively small program that I needed to explain to other, potentially non-technical individuals. Jupyter allows the programmer to break up code in manageable pieces, create well-formatted documentation, and run the code in the browser - all of which make it an easy and effective educational tool."
   ]
  },
  {
   "cell_type": "markdown",
   "metadata": {},
   "source": [
    "2.2. I would use .py files over a Jupyter notebook:"
   ]
  },
  {
   "cell_type": "markdown",
   "metadata": {},
   "source": [
    "I would use a .py file over a Jupyter notebook for a larger program that would only be edited by individuals with coding experience. Using a .py file facilitates development by allowing for the use of more sophisticated IDE's (I'm a PyCharm fan) and doesn't suffer from the limitations of a web browser when working with large programs."
   ]
  },
  {
   "cell_type": "markdown",
   "metadata": {},
   "source": [
    "2.3. I would use a script over a function:"
   ]
  },
  {
   "cell_type": "markdown",
   "metadata": {},
   "source": [
    "I would use a script over a function in a scenario that doesn't require a lot of repitition, such as the player interaction portion of a simple text-based game. In the game I'm evisioning, the player interaction involves a number of while loops with error checking and print statements that display text about the game. None of the repeated actions are similar enough or complex enough to be encapsulated in a function."
   ]
  },
  {
   "cell_type": "markdown",
   "metadata": {},
   "source": [
    "2.4. I would use a function over a script:"
   ]
  },
  {
   "cell_type": "markdown",
   "metadata": {},
   "source": [
    "I would use a function over a script when solving a problem that required repetition of sufficiently complex operations such as plotting a graph. In my programming experience, considerable effort is spent creating the plot, labeling the axes, and defining other characteristics of the visualization. If generating a plot was required more than once in a particular program, this would be a good opportunity to use a function over a script."
   ]
  },
  {
   "cell_type": "markdown",
   "metadata": {},
   "source": [
    "# 3. Dictionaries vs Lists (10 pts)\n",
    "\n",
    "Suppose we have the following problem.  We have a dictionary of names and ages and we would like to find the oldest person.\n",
    "\n",
    "```\n",
    "ages_dict = {'Bill':34, 'Fred':45, 'Alice':14, 'Betty':17}\n",
    "```"
   ]
  },
  {
   "cell_type": "markdown",
   "metadata": {},
   "source": [
    "### Dictionary approach\n",
    "Here is a loop that shows how to iterate through the dictionary:"
   ]
  },
  {
   "cell_type": "code",
   "execution_count": 24,
   "metadata": {},
   "outputs": [
    {
     "name": "stdout",
     "output_type": "stream",
     "text": [
      "Fred is the oldest.\n"
     ]
    }
   ],
   "source": [
    "ages_dict = {'Bill':34, 'Fred':45, 'Alice':14, 'Betty':17}\n",
    "\n",
    "max_age = 0\n",
    "max_name = ''\n",
    "for name,age in ages_dict.items():\n",
    "    if age > max_age:\n",
    "        max_age = age\n",
    "        max_name = name\n",
    "        \n",
    "print(max_name, \"is the oldest.\")    "
   ]
  },
  {
   "cell_type": "markdown",
   "metadata": {},
   "source": [
    "### List approach \n",
    "\n",
    "Your friend comes to you and thinks that this dictionary is difficult to deal with and instead offers a different plan using two lists.\n",
    "\n",
    "```\n",
    "names = ['Bill', 'Fred', 'Alice', 'Betty']\n",
    "ages = [34, 45, 14, 17]\n",
    "```"
   ]
  },
  {
   "cell_type": "markdown",
   "metadata": {},
   "source": [
    "Instead of using a loop, your friend writes this code to find the oldest person."
   ]
  },
  {
   "cell_type": "code",
   "execution_count": 25,
   "metadata": {},
   "outputs": [
    {
     "name": "stdout",
     "output_type": "stream",
     "text": [
      "Fred is the oldest.\n"
     ]
    }
   ],
   "source": [
    "names = ['Bill', 'Fred', 'Alice', 'Betty']\n",
    "ages = [34, 45, 14, 17]\n",
    "\n",
    "max_age = max(ages)\n",
    "index_max = ages.index(max_age)\n",
    "max_name = names[index_max]\n",
    "\n",
    "print(max_name, 'is the oldest.')"
   ]
  },
  {
   "cell_type": "markdown",
   "metadata": {},
   "source": [
    "### Discussion\n",
    "Discuss the advantages and disadvantages of each of the approaches.  \n",
    "\n",
    "3.1. Is one more efficient (i.e. faster in Big O notation) than the other?"
   ]
  },
  {
   "cell_type": "markdown",
   "metadata": {},
   "source": [
    "On first glance it appears that the list implementation is more efficient than the dictionary implementation because the dictionary implementation uses a WHILE loop to parse all the values making it O(n). By contrast, the list implementation does not use looping and appears to be O(1). However, the max() function itself is O(n) thus making it unfair to assume that all lines of code take the same time to run. In reality, these programs are more-or-less equally efficient.\n",
    "\n",
    "Dictionary Implementation - O(n)\n",
    "\n",
    "List Implementation - O(n)"
   ]
  },
  {
   "cell_type": "markdown",
   "metadata": {},
   "source": [
    "3.2. Why would you prefer the dictionary?"
   ]
  },
  {
   "cell_type": "markdown",
   "metadata": {},
   "source": [
    "The dictionary guarantees that all names are directly tied to their associated ages. Lists are mutable, and if someone wanted to change ages, or add individuals, or rearrange the lists there is considerably more potential for error using the list method as compared to the dictionary method."
   ]
  },
  {
   "cell_type": "markdown",
   "metadata": {},
   "source": [
    "3.3. Why would you prefer the two lists?"
   ]
  },
  {
   "cell_type": "markdown",
   "metadata": {},
   "source": [
    "Lists have numerous, intuitive methods for solving simple problems of this variety. Whether it's finding the oldest person (max), youngest person (min), a particular value (x in y), etc., small problems can be solved with a single method and without looping whereas using the dictionary implementation would likely make these problems more complex."
   ]
  },
  {
   "cell_type": "markdown",
   "metadata": {},
   "source": [
    "# 4. Mutability Surprises (15 pts)\n",
    "\n",
    "4.1. In the asynchronous sessions, we discussed mutability. Please describe, in your own words, why mutability is a useful feature in Python lists and dictionaries."
   ]
  },
  {
   "cell_type": "markdown",
   "metadata": {},
   "source": [
    "Mutability is a useful feature because not all data sets are going to be useful as-is. A programmer may want to remove blank values, change the number of significant digits, or remove duplicates. The ability to change the state of the original data set facilitates performing these types of actions, saving both programming time and runtime."
   ]
  },
  {
   "cell_type": "markdown",
   "metadata": {},
   "source": [
    "Mutability can also lead to unexpected behavior - specifically when multiple variables point to the same object or when mutable objects are nested inside each other. \n",
    "\n",
    "4.2. Please write some code demonstrating a situation where mutability could lead to unexpected behavior. Specifically, show how updating just one object (list_a) can change the value when you print a second variable (list_b)."
   ]
  },
  {
   "cell_type": "code",
   "execution_count": 26,
   "metadata": {},
   "outputs": [
    {
     "name": "stdout",
     "output_type": "stream",
     "text": [
      "a = [1, 2, 3, 4, 5]\n",
      "b =  [1, 2, 3, 4, 5]\n"
     ]
    }
   ],
   "source": [
    "# Your code here\n",
    "a = [1,2,3,4]\n",
    "b = a\n",
    "a.append(5)\n",
    "print(\"a =\", a)\n",
    "print(\"b = \",b)"
   ]
  },
  {
   "cell_type": "markdown",
   "metadata": {},
   "source": [
    "4.3. Show how \"copy\" or \"deepcopy\" could be used to prevent the unexpected problem you described, above."
   ]
  },
  {
   "cell_type": "code",
   "execution_count": 27,
   "metadata": {},
   "outputs": [
    {
     "name": "stdout",
     "output_type": "stream",
     "text": [
      "a = [1, 2, 3, 4, 5]\n",
      "b = [1, 2, 3, 4]\n"
     ]
    }
   ],
   "source": [
    "# Your code here\n",
    "import copy\n",
    "a = [1,2,3,4]\n",
    "b = copy.deepcopy(a)\n",
    "a.append(5)\n",
    "print(\"a =\", a)\n",
    "print(\"b =\",b)"
   ]
  },
  {
   "cell_type": "markdown",
   "metadata": {},
   "source": [
    "4.4. Now, show the same problem using two dictionaries. Again show how \"copy\" or \"deepcopy\" can fix the issue."
   ]
  },
  {
   "cell_type": "code",
   "execution_count": 28,
   "metadata": {},
   "outputs": [
    {
     "name": "stdout",
     "output_type": "stream",
     "text": [
      "{'His Shoes': 'Whack!', 'His Hair': 'Whack!'}\n",
      "{'His Shoes': 'Whack!', 'His Hair': 'Whack!', 'His Jewelery': 'Whack!'}\n"
     ]
    }
   ],
   "source": [
    "# Your code here\n",
    "import copy\n",
    "\n",
    "facts = {\"His Shoes\": \"Whack!\", \"His Hair\":\"Whack!\"}\n",
    "more_facts = copy.deepcopy(facts)\n",
    "more_facts[\"His Jewelery\"] = \"Whack!\"\n",
    "print(facts)\n",
    "print(more_facts)\n"
   ]
  },
  {
   "cell_type": "markdown",
   "metadata": {},
   "source": [
    "4.5. Can this unexpected behavior problem occur with tuples? Why, or why not?"
   ]
  },
  {
   "cell_type": "markdown",
   "metadata": {},
   "source": [
    "This behavior can not occure with Tuples because they are immutable. If an object is copied to another object, changes to the original (such as redefinition) will not change the copy."
   ]
  },
  {
   "cell_type": "markdown",
   "metadata": {},
   "source": [
    "# 5. Tweet Analysis (15 pts)\n",
    "\n",
    "A tweet is a string that is between 1 and 280 characters long (inclusive). A username is a string of letters and/or digits that is between 1 and 14 characters long (inclusive). A username is mentioned in a tweet by including @username in the tweet. A retweet is way to share another user's tweet, and can be identified by the string RT, followed by the original username who tweeted it.\n",
    "\n",
    "Your job is to fill in the function *count_retweets_by_username* so that it returns a frequency dictionary that indicates how many times each retweeted username was retweeted."
   ]
  },
  {
   "cell_type": "code",
   "execution_count": 1,
   "metadata": {},
   "outputs": [],
   "source": [
    "tweets = [\"This is great! RT @fakeuser: Can you believe this?\",\n",
    "         \"It's the refs! RT @dubsfan: Boo the refs and stuff wargarbal\",\n",
    "         \"That's right RT @ladodgers: The dodgers are destined to win the west!\",\n",
    "         \"RT @sportball: That sporting event was not cool\",\n",
    "         \"This is just a tweet about things @person, how could you\",\n",
    "         \"RT @ladodgers: The season is looking great!\",\n",
    "         \"RT @dubsfan: I can't believe it!\",\n",
    "         \"I can't believe it either! RT @dubsfan: I can't believe it\"]"
   ]
  },
  {
   "cell_type": "code",
   "execution_count": 2,
   "metadata": {},
   "outputs": [
    {
     "data": {
      "text/plain": [
       "{'fakeuser': 1, 'dubsfan': 3, 'ladodgers': 2, 'sportball': 1}"
      ]
     },
     "execution_count": 2,
     "metadata": {},
     "output_type": "execute_result"
    }
   ],
   "source": [
    "def count_retweets_by_username(tweet_list):\n",
    "    \"\"\" (list of tweets) -> dict of {username: int}\n",
    "    Returns a dictionary in which each key is a username that was \n",
    "    retweeted in tweet_list and each value is the total number of times this \n",
    "    username was retweeted.\n",
    "    \"\"\"\n",
    "    \n",
    "    count_dict = {}\n",
    "    \n",
    "    for i in range(0, len(tweet_list)):\n",
    "\n",
    "        splitter = tweet_list[i].split()\n",
    "        \n",
    "        for j in range(1, len(splitter)):\n",
    "            if splitter[j][0] == \"@\" and splitter[j][len(splitter[j])-1] == \":\" and splitter[j-1] == \"RT\":\n",
    "                \n",
    "                username = splitter[j][1:len(splitter[j])-1]\n",
    "                \n",
    "                if username in count_dict.keys():\n",
    "                    count_dict[username] += 1\n",
    "                else:\n",
    "                    count_dict[username] = 1\n",
    "                    \n",
    "                \n",
    "    \n",
    "    # write code here and update return statement with your dictionary\n",
    "    return count_dict\n",
    "\n",
    "count_retweets_by_username(tweets)"
   ]
  },
  {
   "cell_type": "code",
   "execution_count": 3,
   "metadata": {},
   "outputs": [
    {
     "name": "stdout",
     "output_type": "stream",
     "text": [
      "{'fakeuser': 1, 'dubsfan': 3, 'ladodgers': 2, 'sportball': 1}\n"
     ]
    }
   ],
   "source": [
    "# allow this code to work by implementing count_retweets_by_username function above\n",
    "print(count_retweets_by_username(tweets))"
   ]
  },
  {
   "cell_type": "markdown",
   "metadata": {},
   "source": [
    "# 6. Looking for Minerals (20 pts)\n",
    "\n",
    "A mining company conducts a survey of an n-by-n square grid of land.  Each row of land is numbered from 0 to n-1 where 0 is the top and n-1 is the bottom, and each column is also numbered from 0 to n-1 where 0 is the left and n-1 is the right.  The company wishes to record which squares of this grid contain mineral deposits.\n",
    "\n",
    "The company decides to use a list of tuples to store the location of each deposit.  The first item in each tuple is the row of the deposit.  The second item is the column.  The third item is a non-negative number representing the size of the deposit, in tons.  For example, the following code defines a sample representation of a set of deposits in an 8-by-8 grid."
   ]
  },
  {
   "cell_type": "code",
   "execution_count": 4,
   "metadata": {},
   "outputs": [],
   "source": [
    "deposits = [(0, 4, .3), (6, 2, 3), (3, 7, 2.2), (5, 5, .5), (3, 5, .8), (7, 7, .3)]"
   ]
  },
  {
   "cell_type": "markdown",
   "metadata": {},
   "source": [
    "6.1. Given a list of deposits like the one above, write a function to create a string representation for a rectangular sub-region of the land.  Your function should take a list of deposits, then a set of parameters denoting the top, bottom, left, and right edges of the sub-grid.  It should return a multi-line string in which grid squares without deposits are represented by \"-\" and grid squares with a deposit are represented by \"X\"."
   ]
  },
  {
   "cell_type": "code",
   "execution_count": 5,
   "metadata": {},
   "outputs": [
    {
     "name": "stdout",
     "output_type": "stream",
     "text": [
      "----X---\n",
      "--------\n",
      "--------\n",
      "-----X-X\n",
      "--------\n",
      "-----X--\n",
      "--X-----\n",
      "-------X\n",
      "\n"
     ]
    }
   ],
   "source": [
    "def display(deposits, top, bottom, left, right):\n",
    "    \"\"\"display a subgrid of the land, with rows starting at top and up to \n",
    "    but not including bottom, and columns starting at left and up to but\n",
    "    not including right.\"\"\"\n",
    "    \n",
    "    ans = \"\"\n",
    "    coord = [(i[0],i[1]) for i in deposits]\n",
    "    \n",
    "    for i in range(top,bottom):\n",
    "        for j in range(left,right):\n",
    "            if (i,j) in coord:\n",
    "                ans = ans + \"X\"\n",
    "            else:\n",
    "                ans = ans + \"-\"\n",
    "        ans = ans + \"\\n\"\n",
    "    \n",
    "    \n",
    "    return ans\n",
    "\n",
    "print(display(deposits,0,8,0,8))"
   ]
  },
  {
   "cell_type": "markdown",
   "metadata": {},
   "source": [
    "For example, your function should replicate the following behavior for the example grid:\n",
    "```\n",
    "print(display(deposits, 0, 8, 0, 8))\n",
    "----X---\n",
    "--------\n",
    "--------\n",
    "-----X-X\n",
    "--------\n",
    "-----X--\n",
    "--X-----\n",
    "-------X\n",
    "\n",
    "print(display(deposits, 5, 8, 5, 8))\n",
    "X--\n",
    "---\n",
    "--X\n",
    "\n",
    "```\n"
   ]
  },
  {
   "cell_type": "markdown",
   "metadata": {},
   "source": [
    "6.2. Next, complete the following function to compute the total number of tons in a rectangular sub-region of the grid."
   ]
  },
  {
   "cell_type": "code",
   "execution_count": 6,
   "metadata": {},
   "outputs": [
    {
     "name": "stdout",
     "output_type": "stream",
     "text": [
      "0.8\n"
     ]
    }
   ],
   "source": [
    "def tons_inside(deposits, top, bottom, left, right):\n",
    "    \"\"\"Returns the total number of tons of deposits for which the row is at least top,\n",
    "    but strictly less than bottom, and the column is at least left, but strictly\n",
    "    less than right.\"\"\"\n",
    "    \n",
    "    coord = [(i[0],i[1]) for i in deposits]\n",
    "    ans = 0\n",
    "    \n",
    "    for i in range(top,bottom):\n",
    "        for j in range(left,right):\n",
    "            if (i,j) in coord:\n",
    "                ans += deposits[coord.index((i,j))][2]\n",
    "    return ans\n",
    "\n",
    "print(tons_inside(deposits,5,8,5,8))\n",
    "    "
   ]
  },
  {
   "cell_type": "markdown",
   "metadata": {
    "collapsed": true
   },
   "source": [
    "## 7. Birthday planning (15 pts)\n",
    "\n",
    "Suppose you record a list of birthdays for your classmates, recorded as month day tuples.  An example is given below."
   ]
  },
  {
   "cell_type": "code",
   "execution_count": 8,
   "metadata": {},
   "outputs": [],
   "source": [
    "# The 2nd to last tuple needs the int(2) in it so that it is uniquely stored in memory compared to (2,8)\n",
    "# Under the hood Python 3.7 changed how these are stored so (2,8) and (2,8) are stored in the same location\n",
    "# and then the algorithm below doesn't work\n",
    "\n",
    "dates = [(3,14),(2,8),(10,25),(5,17),(3,2),(7,25),(4,30),(8,7),(int(2),8),(1,22)] #,\n",
    "         #(11,1),(11,2),(int(11),1),(11,4),(11,5),(11,6),(11,7),(11,8),(11,9),(11,10)]"
   ]
  },
  {
   "cell_type": "markdown",
   "metadata": {},
   "source": [
    "You read about the famous birthday problem and you become interested in the number of pairs of classmates that share the same birthday.  Below is an algorithm you write to do this. (Note: the ```is``` operator tests that two operands point to the same object)"
   ]
  },
  {
   "cell_type": "code",
   "execution_count": 9,
   "metadata": {},
   "outputs": [
    {
     "name": "stdout",
     "output_type": "stream",
     "text": [
      "Total birthday pairs: 1\n"
     ]
    }
   ],
   "source": [
    "count = 0\n",
    "for person_a in dates:\n",
    "    for person_b in dates:\n",
    "        # Make sure we have different people        \n",
    "        if person_a is person_b:\n",
    "            continue\n",
    "            \n",
    "        # Check both month and day\n",
    "        if person_a[0] == person_b[0] and person_a[1] == person_b[1]:\n",
    "            count += 1\n",
    "            \n",
    "# We counted each pair twice (e.g. jane-bob and bob-jane) so divide by 2:\n",
    "print(\"Total birthday pairs:\", count//2)"
   ]
  },
  {
   "cell_type": "markdown",
   "metadata": {},
   "source": [
    "7.1. What is the (tightest) Big-O running time bound for the above algorithm?  You may assume that simple operations like equality check, addition, and print take constant time."
   ]
  },
  {
   "cell_type": "markdown",
   "metadata": {
    "collapsed": true
   },
   "source": [
    "The tightest Big O running time bound for the above algorithm is O(n^2)"
   ]
  },
  {
   "cell_type": "markdown",
   "metadata": {},
   "source": [
    "7.2. You notice that your algorithm is inefficient in that it counts each pair twice.  For example, it will increment count once when person_a is Jane and person_b is Bob, and again when person_a is Bob and person_b is Jane.  Below, revise the algorithm so that it only looks at each pair once."
   ]
  },
  {
   "cell_type": "code",
   "execution_count": 10,
   "metadata": {},
   "outputs": [
    {
     "name": "stdout",
     "output_type": "stream",
     "text": [
      "Total birthday pairs: 1\n"
     ]
    }
   ],
   "source": [
    "# Your code here\n",
    "count = 0\n",
    "for i in range(len(dates)):\n",
    "    person_a = dates[i]\n",
    "    for j in range(i+1,len(dates)):\n",
    "        person_b = dates[j]\n",
    "        if person_a is person_b:\n",
    "            continue\n",
    "        # Check both month and day\n",
    "        if person_a[0] == person_b[0] and person_a[1] == person_b[1]:\n",
    "            count += 1\n",
    "print(\"Total birthday pairs:\", count)"
   ]
  },
  {
   "cell_type": "markdown",
   "metadata": {},
   "source": [
    "7.3. What is the (tightest) Big-O running time bound for your new algorithm?  What does this tell you about whether your revision was worth making?"
   ]
  },
  {
   "cell_type": "markdown",
   "metadata": {},
   "source": [
    "The tightest Big-O running time bound for my algorithm is still O(n^2). Even though my algorithm is twice as fast, it indicates that the revision was not worth making."
   ]
  },
  {
   "cell_type": "markdown",
   "metadata": {},
   "source": [
    "7.4. Finally, create a third revision of your algorithm which has a faster Big-O running time bound that both the previous algorithms."
   ]
  },
  {
   "cell_type": "code",
   "execution_count": 13,
   "metadata": {},
   "outputs": [
    {
     "name": "stdout",
     "output_type": "stream",
     "text": [
      "Total birthday pairs: 1\n"
     ]
    }
   ],
   "source": [
    "# Your code here\n",
    "dates.sort()\n",
    "count = 0\n",
    "for i in range(len(dates)-1):\n",
    "    if dates[i][0] == dates[i+1][0]:\n",
    "        if dates[i][1] == dates[i+1][1]:\n",
    "            count += 1\n",
    "\n",
    "print(\"Total birthday pairs:\", count)"
   ]
  },
  {
   "cell_type": "markdown",
   "metadata": {},
   "source": [
    "7.5. What is the (tightest) Big-O running time bound for your last algorithm?  Explain what trade-off you made to have a faster running time."
   ]
  },
  {
   "cell_type": "markdown",
   "metadata": {
    "collapsed": true
   },
   "source": [
    "The tightest Big-O running time bound is O(n). The tradeoff for faster running time was to increase the amount of overhead in the form of list sorting."
   ]
  },
  {
   "cell_type": "code",
   "execution_count": null,
   "metadata": {},
   "outputs": [],
   "source": []
  }
 ],
 "metadata": {
  "kernelspec": {
   "display_name": "Python 3",
   "language": "python",
   "name": "python3"
  },
  "language_info": {
   "codemirror_mode": {
    "name": "ipython",
    "version": 3
   },
   "file_extension": ".py",
   "mimetype": "text/x-python",
   "name": "python",
   "nbconvert_exporter": "python",
   "pygments_lexer": "ipython3",
   "version": "3.7.6"
  },
  "widgets": {
   "state": {},
   "version": "1.1.2"
  }
 },
 "nbformat": 4,
 "nbformat_minor": 1
}
