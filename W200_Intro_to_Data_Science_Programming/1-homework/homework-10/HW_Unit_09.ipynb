{
 "cells": [
  {
   "cell_type": "markdown",
   "metadata": {
    "deletable": false,
    "editable": false,
    "nbgrader": {
     "cell_type": "markdown",
     "checksum": "15b87721218c9cd1f2a9360ea1e9a251",
     "grade": false,
     "grade_id": "cell-76038a88b4d3af8c",
     "locked": true,
     "schema_version": 3,
     "solution": false
    }
   },
   "source": [
    "## Unit 9 Assignment - W200 Introduction to Data Science Programming, UC Berkeley MIDS\n",
    "\n",
    "Write code in this Jupyter Notebook to solve the following problems. Please upload this **Notebook and the five .csv files** with your solutions to your GitHub repository in your SUBMISSIONS/week_10 folder by 11:59PM PST the night before class."
   ]
  },
  {
   "cell_type": "markdown",
   "metadata": {
    "deletable": false,
    "editable": false,
    "nbgrader": {
     "cell_type": "markdown",
     "checksum": "c23f7fc9d9970d3da7cc114e7d58d8de",
     "grade": false,
     "grade_id": "cell-ae5d30c3c3f47580",
     "locked": true,
     "schema_version": 3,
     "solution": false
    }
   },
   "source": [
    "This homework assignment is assigned during Week 10 but corresponds to the Unit #9 async."
   ]
  },
  {
   "cell_type": "markdown",
   "metadata": {
    "deletable": false,
    "editable": false,
    "nbgrader": {
     "cell_type": "markdown",
     "checksum": "6b52c4ac0395c1e0a459473b439e2153",
     "grade": false,
     "grade_id": "cell-5977c1d8f1d55d67",
     "locked": true,
     "schema_version": 3,
     "solution": false
    }
   },
   "source": [
    "## Objectives\n",
    "\n",
    "- Demonstrate how to import different data files\n",
    "- Get a small glimpse on how messy data can be\n",
    "- Design and implement an algorithm to standardize the information and fix the messiness\n",
    "- Work with Python data structures to sort and output the correct information\n",
    "- Demonstrate how to export required information to a .csv file"
   ]
  },
  {
   "cell_type": "markdown",
   "metadata": {
    "deletable": false,
    "editable": false,
    "nbgrader": {
     "cell_type": "markdown",
     "checksum": "2c14663ff2d7819ac8f8abe12c58dd5e",
     "grade": false,
     "grade_id": "cell-f3df226b1112e4f1",
     "locked": true,
     "schema_version": 3,
     "solution": false
    }
   },
   "source": [
    "## Reading and Writing Data (25 Points)\n",
    "\n",
    "In this assignment, you will be reading and writing data. Yes, finally some data science (or at least some exploratory data analysis)! In the week_10 assignment folder, there are three data files named: \n",
    "\n",
    "* data.csv\n",
    "* data.json\n",
    "* data.pkl\n",
    "\n",
    "These are three common file formats. You can run the following **on the bash command line** to see what is in each file (this will not work from a Windows prompt but will work in git bash):\n",
    "\n",
    "```sh\n",
    "head data.csv\n",
    "head data.pkl\n",
    "head data.json\n",
    "```\n",
    "\n",
    "You'll see that there is some method to the madness but that each file format has its peculiarities. Each file contains a portion of the total dataset that altogether comprises 100 records, so you need to **read in all of the files and combine them into some standard format** with which you are comfortable. Aim for something standard where each \"row\" is represented in the same format. **Name this object that contains the data for all three files combined ```full_data```**\n",
    "\n",
    "### Questions to answer (75 points: each question is worth 15 points):\n",
    "After you've standardized all of the data, report the following information: \n",
    "\n",
    "1. What are the unique countries in the dataset, sorted alphabetically?  Write to a new file called question_1.csv.\n",
    "2. What are the unique complete email domains in the dataset, sorted alphabetically?  Write to a new file called question_2.csv. \n",
    "3. What are the first names of everyone (including duplicates) that do not have a P.O. Box address, sorted alphabetically?  Write to a new file called question_3.csv.\n",
    "4. What are the full names of the first 5 people when you sort the data alphabetically by country?  Write to a new file called question_4.csv.\n",
    "5. What are the full names of the first 5 people when you sort the data numerically ascending by phone number?  Write to a new file called question_5.csv.\n",
    "\n",
    "We will be using a script to examine and grade your .csv files so please make sure: \n",
    "- The answers are all in one **column** with one list item per cell, sorted as stated in the question. I.e., looking at the .csv in a spreadsheet editor like Google Sheets, all answers would be in the 'A' column, with the first entry in A1, the second in A2, etc.\n",
    "- Please do not include a header; just the answers to the questions.\n",
    "- It is strongly recommended that you open each .csv file to ensure the answers are there and displayed correctly! \n",
    "- Don't include quotes around the list items.  I.e., strip the leading and trailing quotes, if necessary, from items when you write to the .csv files.  For example, a list entry should look like ```Spain``` rather than ```\"Spain\"```. One exception: Some country names do contain commas and it is ok to have quotes: ```\"\"``` around just those country names so that they will be in one cell in the .csv. \n",
    "\n",
    "\n",
    "In addition, show all of your work in this **Jupyter notebook**."
   ]
  },
  {
   "cell_type": "markdown",
   "metadata": {
    "deletable": false,
    "editable": false,
    "nbgrader": {
     "cell_type": "markdown",
     "checksum": "635f227045350bca94591906e3873ad2",
     "grade": false,
     "grade_id": "cell-ad4b864c26503a51",
     "locked": true,
     "schema_version": 3,
     "solution": false
    }
   },
   "source": [
    "### Assumptions\n",
    "\n",
    "- You might have to make decisions about the data. For example, what to do with ties or how to sort the phone numbers numerically. \n",
    "- Write your assumptions in this Jupyter notebook at the top of your code under the heading below that says ASSUMPTIONS\n",
    "- Please do some research before making an assumption (e.g. what is a domain name?); put your notes inside that assumption so we can understand your thought process. \n",
    "  - NOTE: If you don't know what an email domain is - do some research and write what you found in your assumptions; there is a correct answer to this question! \n",
    "- This is a good habit to do as you analyze data so that you can remember why you made the decisions you did and other people can follow your analysis later!"
   ]
  },
  {
   "cell_type": "markdown",
   "metadata": {
    "deletable": false,
    "editable": false,
    "nbgrader": {
     "cell_type": "markdown",
     "checksum": "57450666cda1cb410247d946aa6801fe",
     "grade": false,
     "grade_id": "cell-ac3d57f37fc71750",
     "locked": true,
     "schema_version": 3,
     "solution": false
    }
   },
   "source": [
    "### Restrictions\n",
    "You should use these standard library imports:\n",
    "\n",
    "```python\n",
    "import json\n",
    "import csv\n",
    "import pickle\n",
    "```\n",
    "\n",
    "Some of you may be familiar with a Python package called `pandas` which would greatly speed up this sort of file processing.  The point of this homework is to do the work manually.  You can use `pandas` to independently check your work if you are so inclined but do not use `pandas` as the sole solution method. Don't worry if you are not familiar with `pandas`.  We will do this homework as a class exercise using `pandas` in the near future."
   ]
  },
  {
   "cell_type": "markdown",
   "metadata": {
    "deletable": false,
    "editable": false,
    "nbgrader": {
     "cell_type": "markdown",
     "checksum": "86514456a34f356155016417a7d3a6e8",
     "grade": false,
     "grade_id": "cell-f8df9d752522f9cd",
     "locked": true,
     "schema_version": 3,
     "solution": false
    }
   },
   "source": [
    "### Hints (optional)\n",
    "\n",
    "- You may use regular expressions if you wish to extract data from each row. You do not need to use them if you do not want to or see a need to. The Python regular expression module is called `re`.\n",
    "- You may want to use the operator library or the sorted function to help in sorting.\n",
    "- There are many data structures and formats that you might use to solve this problem.  You will have to decide if you want to keep the information for each person together as one record or all the information for each of the fields together.\n",
    "- You can put these files into sensible structures such as lists or or dictionaries. The async covers how to do this for csv and json. For pickle this might help https://wiki.python.org/moin/UsingPickle \n",
    "- .items() or .key() can be useful for dictionaries\n",
    "- Once again, it is strongly recommended that you open each .csv file to ensure the answers are there and displayed correctly! "
   ]
  },
  {
   "cell_type": "code",
   "execution_count": 83,
   "metadata": {
    "deletable": false,
    "nbgrader": {
     "cell_type": "code",
     "checksum": "97005fc8cbd95ef4164db798e727a63f",
     "grade": true,
     "grade_id": "cell-360398972d1182f1",
     "locked": false,
     "points": 0,
     "schema_version": 3,
     "solution": true
    }
   },
   "outputs": [
    {
     "name": "stdout",
     "output_type": "stream",
     "text": [
      "[{'Name': 'Hillary Benton', 'Phone': '1-243-669-7472', 'Address': '144-1225 In Road', 'City': 'Navsari', 'Country': 'Togo', 'Email': 'rutrum.magna.Cras@eudolor.edu'}, {'Name': 'Morgan Y. Little', 'Phone': '155-3483', 'Address': 'Ap #909-6656 Ac St.', 'City': 'Kitimat', 'Country': 'Nauru', 'Email': 'pede.sagittis.augue@quis.ca'}, {'Name': 'Camden Z. Blair', 'Phone': '123-5058', 'Address': 'P.O. Box 441, 6183 Ligula St.', 'City': 'Casanova Elvo', 'Country': 'Palestine, State of', 'Email': 'consectetuer.rhoncus.Nullam@ultrices.org'}, {'Name': 'Alexandra E. Saunders', 'Phone': '1-637-740-7614', 'Address': '305-496 Morbi Rd.', 'City': 'Biggleswade', 'Country': 'Malawi', 'Email': 'dui.Fusce@duinecurna.org'}, {'Name': 'Hanae P. Walsh', 'Phone': '901-2461', 'Address': '7058 Dapibus St.', 'City': 'Dhuy', 'Country': 'Qatar', 'Email': 'Morbi@tinciduntpedeac.com'}, {'Name': 'Jescie Sargent', 'Phone': '265-1176', 'Address': '421-5501 Cursus. St.', 'City': 'Tulsa', 'Country': 'Holy See (Vatican City State)', 'Email': 'non.egestas.a@ullamcorper.co.uk'}, {'Name': 'Kessie Morgan', 'Phone': '945-0713', 'Address': 'Ap #481-6631 Vehicula Rd.', 'City': 'Pedro Aguirre Cerda', 'Country': 'Bonaire, Sint Eustatius and Saba', 'Email': 'est@vitaeeratVivamus.net'}, {'Name': 'Bevis M. Santos', 'Phone': '227-9994', 'Address': 'P.O. Box 575, 4033 Mi St.', 'City': 'Saint-Vincent', 'Country': 'Kuwait', 'Email': 'Nunc@Aliquamfringilla.com'}, {'Name': 'Flynn Alston', 'Phone': '398-8097', 'Address': 'Ap #763-5990 Nec, Av.', 'City': 'TirÃºa', 'Country': 'Romania', 'Email': 'Nunc.pulvinar@Phasellusdapibus.edu'}, {'Name': 'Charles F. Crawford', 'Phone': '791-5111', 'Address': 'Ap #841-1623 Vitae Avenue', 'City': 'Hindupur', 'Country': 'South Georgia and The South Sandwich Islands', 'Email': 'dis.parturient@nectellusNunc.net'}, {'Name': 'Cairo Wolfe', 'Phone': '1-930-942-2322', 'Address': '9269 Libero Ave', 'City': 'Whitchurch', 'Country': 'Lesotho', 'Email': 'sociis.natoque@arcuVestibulumante.org'}, {'Name': 'Elijah Myers', 'Phone': '1-238-336-4864', 'Address': 'P.O. Box 677, 2311 Aliquet. Road', 'City': 'Port Harcourt', 'Country': 'Kyrgyzstan', 'Email': 'tempus.risus@posuereat.net'}, {'Name': 'Thane Burch', 'Phone': '1-894-978-3696', 'Address': '7438 Amet, Rd.', 'City': 'Algeciras', 'Country': 'Anguilla', 'Email': 'lobortis.quis.pede@Namligula.edu'}, {'Name': 'Katelyn Munoz', 'Phone': '220-5054', 'Address': 'P.O. Box 432, 9085 Nulla Ave', 'City': 'RequÃ\\xadnoa', 'Country': 'Congo (Brazzaville)', 'Email': 'Vivamus.nisi.Mauris@fermentumarcu.edu'}, {'Name': 'Genevieve Holland', 'Phone': '992-6968', 'Address': '1768 Magna. Road', 'City': 'Moose Jaw', 'Country': 'Uruguay', 'Email': 'Maecenas.malesuada@euultrices.co.uk'}, {'Name': 'Wesley Z. Sharp', 'Phone': '1-960-740-2261', 'Address': 'P.O. Box 497, 8354 Habitant St.', 'City': 'Bear', 'Country': 'Cayman Islands', 'Email': 'et@sedsapien.ca'}, {'Name': 'Tatyana H. French', 'Phone': '1-120-782-6047', 'Address': '217-9163 Lobortis Road', 'City': 'Salles', 'Country': 'Eritrea', 'Email': 'Curabitur@magna.com'}, {'Name': 'Meredith F. Clayton', 'Phone': '425-7583', 'Address': 'Ap #929-9420 Vivamus Rd.', 'City': 'Friedberg', 'Country': 'Czech Republic', 'Email': 'elit.pharetra@dui.co.uk'}, {'Name': 'Rajah Carrillo', 'Phone': '1-576-789-5730', 'Address': '910-8300 Varius Rd.', 'City': 'Bertiolo', 'Country': 'Afghanistan', 'Email': 'sapien.gravida.non@cursuset.net'}, {'Name': 'Gabriel Richmond', 'Phone': '1-387-932-2096', 'Address': '7458 Sapien. St.', 'City': 'Tropea', 'Country': 'Cambodia', 'Email': 'nunc.nulla.vulputate@anteblanditviverra.co.uk'}, {'Name': 'Paul Merrill', 'Phone': '1-313-739-3854', 'Address': '916-8087 Vehicula Rd.', 'City': 'Le Mans', 'Country': 'Somalia', 'Email': 'diam.Pellentesque@suscipitest.ca'}, {'Name': 'Brynne S. Barr', 'Phone': '939-4818', 'Address': '878-2231 Suspendisse Rd.', 'City': 'Wilhelmshaven', 'Country': 'Samoa', 'Email': 'euismod.et.commodo@nisi.co.uk'}, {'Name': 'Cyrus Buckley', 'Phone': '266-3123', 'Address': 'P.O. Box 572, 7680 Ullamcorper Ave', 'City': 'Sangli', 'Country': 'Taiwan', 'Email': 'accumsan.laoreet.ipsum@Quisqueimperdiet.ca'}, {'Name': 'Chloe Burnett', 'Phone': '828-0406', 'Address': '563-4105 Donec Avenue', 'City': 'Wabamun', 'Country': 'Morocco', 'Email': 'nec.orci.Donec@Suspendisse.co.uk'}, {'Name': 'Zachery Wilcox', 'Phone': '1-611-756-4723', 'Address': '462-2112 In Rd.', 'City': 'Barddhaman', 'Country': 'Hong Kong', 'Email': 'eget@tinciduntaliquamarcu.com'}, {'Name': 'Casey Mcgowan', 'Phone': '1-155-558-4461', 'Address': '420-7327 Facilisis Street', 'City': 'Pfungstadt', 'Country': 'Iran', 'Email': 'tellus.faucibus.leo@Sedpharetrafelis.org'}, {'Name': 'Cole X. Hopper', 'Phone': '1-328-505-0545', 'Address': '561-7476 Eget St.', 'City': 'Saint John', 'Country': 'Macao', 'Email': 'urna@Lorem.net'}, {'Name': 'Tara Bender', 'Phone': '1-757-378-4079', 'Address': '1247 Nonummy Rd.', 'City': 'Avellino', 'Country': 'Dominica', 'Email': 'libero.Integer@ligulaelitpretium.org'}, {'Name': 'Malik Grimes', 'Phone': '793-4359', 'Address': 'Ap #603-3303 Libero. St.', 'City': 'Winnipeg', 'Country': 'Congo (Brazzaville)', 'Email': 'Donec.nibh.enim@consectetuercursuset.org'}, {'Name': 'Ulla Russo', 'Phone': '662-7778', 'Address': 'P.O. Box 975, 4593 Ante. Street', 'City': 'Vitória da Conquista', 'Country': 'Slovakia', 'Email': 'mauris.sit.amet@blanditatnisi.ca'}, {'Name': 'Colby Moran', 'Phone': '1-788-230-1991', 'Address': '3696 Augue Ave', 'City': 'Hualpén', 'Country': 'France', 'Email': 'eu@Aenean.edu'}, {'Name': 'Maggy Wooten', 'Phone': '912-7242', 'Address': 'P.O. Box 365, 6109 Metus. Rd.', 'City': 'Kapuskasing', 'Country': 'Indonesia', 'Email': 'facilisis.eget.ipsum@consequat.com'}, {'Name': 'Cameron Guthrie', 'Phone': '988-2217', 'Address': 'Ap #861-8699 Non Ave', 'City': 'Pontypridd', 'Country': 'Turks and Caicos Islands', 'Email': 'ipsum@liberoDonec.net'}, {'Name': 'Gail Villarreal', 'Phone': '1-405-823-4207', 'Address': '371-7266 Tortor Avenue', 'City': 'Saint-Remy-Geest', 'Country': 'Marshall Islands', 'Email': 'Curabitur.dictum.Phasellus@maurisipsum.edu'}, {'Name': 'Harding Salinas', 'Phone': '1-505-843-5401', 'Address': '4167 Nunc Ave', 'City': 'Arsimont', 'Country': 'Montserrat', 'Email': 'Fusce.aliquam@velesttempor.edu'}, {'Name': 'Idona W. Bonner', 'Phone': '283-6921', 'Address': 'Ap #302-2966 Cum Av.', 'City': 'Nieuwenrode', 'Country': 'Faroe Islands', 'Email': 'elementum.lorem@convallisdolor.co.uk'}, {'Name': 'Warren Castillo', 'Phone': '1-250-875-9104', 'Address': 'Ap #275-2917 Curabitur Rd.', 'City': 'La Baie', 'Country': 'Ireland', 'Email': 'Aenean@ametrisus.com'}, {'Name': 'Clayton Harmon', 'Phone': '1-609-380-9257', 'Address': '6930 Duis Road', 'City': 'College', 'Country': 'United States', 'Email': 'bibendum@interdumfeugiatSed.edu'}, {'Name': 'Alana Vasquez', 'Phone': '1-853-288-4269', 'Address': '1511 Lobortis Ave', 'City': 'Richmond Hill', 'Country': 'Israel', 'Email': 'faucibus.id.libero@egestas.net'}, {'Name': 'Mason R. Trujillo', 'Phone': '172-5777', 'Address': 'Ap #711-213 Sagittis Avenue', 'City': 'Quinta Normal', 'Country': 'Sudan', 'Email': 'egestas@malesuadamalesuadaInteger.ca'}, {'Name': 'Garrison Lindsey', 'Phone': '420-1477', 'Address': 'P.O. Box 466, 7919 In Av.', 'City': 'Dunbar', 'Country': 'Zambia', 'Email': 'ipsum.ac@quam.net'}, {'Name': 'Jenna Mercado', 'Phone': '102-2189', 'Address': 'P.O. Box 484, 9648 Sit Avenue', 'City': 'Pollena Trocchia', 'Country': 'Burkina Faso', 'Email': 'Nulla.facilisis.Suspendisse@urnanec.net'}, {'Name': 'Drake Savage', 'Phone': '1-790-105-7695', 'Address': 'P.O. Box 254, 2688 Luctus, Street', 'City': 'Hastings', 'Country': 'Tunisia', 'Email': 'quis.accumsan.convallis@fringilla.edu'}, {'Name': 'Rana Z. Colon', 'Phone': '486-7539', 'Address': 'Ap #682-9992 Neque Rd.', 'City': 'Gespeg', 'Country': 'Canada', 'Email': 'rutrum.non.hendrerit@etlacinia.com'}, {'Name': 'Melodie Knox', 'Phone': '1-479-861-6093', 'Address': '245-8811 Ut St.', 'City': 'Whitehorse', 'Country': 'Norway', 'Email': 'arcu@laciniaorciconsectetuer.ca'}, {'Name': 'Cooper T. Horton', 'Phone': '768-1000', 'Address': 'P.O. Box 383, 139 A Ave', 'City': 'Fernie', 'Country': 'Israel', 'Email': 'sit@eros.ca'}, {'Name': 'Eaton Nelson', 'Phone': '746-8562', 'Address': '7989 Magna Rd.', 'City': 'Ludlow', 'Country': 'Cocos (Keeling) Islands', 'Email': 'eu@aenim.ca'}, {'Name': 'Lucian W. Lynn', 'Phone': '1-392-783-0634', 'Address': '7312 Tristique St.', 'City': 'Tirrases', 'Country': 'Western Sahara', 'Email': 'purus.Duis.elementum@ut.org'}, {'Name': 'Sydney Anderson', 'Phone': '1-610-717-0447', 'Address': 'P.O. Box 720, 9179 Fermentum Street', 'City': 'Ingolstadt', 'Country': 'Saint Vincent and The Grenadines', 'Email': 'ante.ipsum.primis@ornare.org'}, {'Name': 'Jane Joyner', 'Phone': '1-131-574-3183', 'Address': '200-5702 Mollis St.', 'City': 'HavrŽ', 'Country': 'Austria', 'Email': 'magna.sed.dui@diamPellentesquehabitant.com'}, {'Name': 'Yen P. Browning', 'Phone': '473-1433', 'Address': 'Ap #221-1593 Fringilla St.', 'City': 'Gentbrugge', 'Country': 'Isle of Man', 'Email': 'enim@nuncinterdum.edu'}, {'Name': 'Katell Simmons', 'Phone': '1-647-852-3590', 'Address': 'P.O. Box 133, 5382 Enim Ave', 'City': 'Rionero in Vulture', 'Country': 'Hong Kong', 'Email': 'dui.lectus@erat.org'}, {'Name': 'Freya B. Fischer', 'Phone': '514-9914', 'Address': 'Ap #869-5869 Neque Avenue', 'City': 'Pudahuel', 'Country': 'Rwanda', 'Email': 'Cras@dictumeu.org'}, {'Name': 'Rama W. Mack', 'Phone': '1-849-217-6292', 'Address': '2992 Vitae Rd.', 'City': 'Moricone', 'Country': 'Jamaica', 'Email': 'neque.vitae@nullamagna.edu'}, {'Name': 'Lawrence Z. Carrillo', 'Phone': '352-3711', 'Address': '6427 Eros Avenue', 'City': 'Northumberland', 'Country': 'Latvia', 'Email': 'Integer.vitae@arcu.org'}, {'Name': 'Quyn Serrano', 'Phone': '1-450-807-5530', 'Address': 'P.O. Box 133, 6862 Diam Road', 'City': 'Lagonegro', 'Country': 'Ireland', 'Email': 'tincidunt@egestasadui.co.uk'}, {'Name': 'Indira L. Mccormick', 'Phone': '1-330-764-3846', 'Address': 'P.O. Box 679, 7373 Mollis Ave', 'City': 'Rampur', 'Country': 'Saint Pierre and Miquelon', 'Email': 'eleifend@purus.ca'}, {'Name': 'Rina W. Harris', 'Phone': '760-1654', 'Address': 'P.O. Box 642, 2289 Volutpat. Street', 'City': 'Dolceacqua', 'Country': 'Ghana', 'Email': 'eget.venenatis.a@Curae.com'}, {'Name': 'Cherokee George', 'Phone': '1-722-165-1370', 'Address': '221-3908 Pellentesque Av.', 'City': 'Ourense', 'Country': 'Ukraine', 'Email': 'amet.risus@risusaultricies.co.uk'}, {'Name': 'Michael Riddle', 'Phone': '476-0145', 'Address': '581-1223 Aliquam Rd.', 'City': 'Logan City', 'Country': 'Guatemala', 'Email': 'In@ornarelectusjusto.net'}, {'Name': 'Kay Rice', 'Phone': '477-5481', 'Address': '2398 Lectus, Road', 'City': 'Rutten', 'Country': 'Isle of Man', 'Email': 'ornare@egestas.co.uk'}, {'Name': 'Arden Leonard', 'Phone': '383-6541', 'Address': '1274 Nullam St.', 'City': 'Esslingen', 'Country': 'Italy', 'Email': 'pede.Suspendisse.dui@ullamcorper.ca'}, {'Name': 'Chantale Sharpe', 'Phone': '1-600-834-9076', 'Address': '1229 Nisl. Av.', 'City': 'Windsor', 'Country': 'Mauritius', 'Email': 'Suspendisse.commodo.tincidunt@placerat.ca'}, {'Name': 'Calvin Herman', 'Phone': '1-461-665-6848', 'Address': '263-4846 Sed St.', 'City': 'Castel Maggiore', 'Country': 'Romania', 'Email': 'iaculis.lacus@ipsumprimis.com'}, {'Name': 'Walter R. Gaines', 'Phone': '370-5831', 'Address': '3247 Parturient Ave', 'City': 'Kitchener', 'Country': 'Niger', 'Email': 'sit@risusDonec.net'}, {'Name': 'Berk Finley', 'Phone': '1-765-752-4793', 'Address': '6138 Faucibus Ave', 'City': 'Cavallino', 'Country': 'Chile', 'Email': 'sapien.molestie@nonbibendum.edu'}, {'Name': 'Timothy Chambers', 'Phone': '819-2872', 'Address': '865-2066 Vel Rd.', 'City': 'Dordrecht', 'Country': 'Egypt', 'Email': 'purus.sapien@odioAliquamvulputate.edu'}, {'Name': 'Ariana M. Olson', 'Phone': '447-5000', 'Address': '173-4952 Pede, Avenue', 'City': 'Zwevegem', 'Country': 'Dominican Republic', 'Email': 'augue.malesuada@magnisdisparturient.co.uk'}, {'Name': 'Mason E. Kelly', 'Phone': '1-896-767-7525', 'Address': '593 Turpis. Av.', 'City': 'Fraser-Fort George', 'Country': 'Uganda', 'Email': 'Maecenas.mi@tortordictumeu.org'}, {'Name': 'Keane Stein', 'Phone': '457-2683', 'Address': '567-6664 Egestas St.', 'City': 'Burgos', 'Country': 'Turks and Caicos Islands', 'Email': 'rhoncus.Donec@placerataugueSed.com'}, {'Name': 'Ginger Morse', 'Phone': '1-228-310-1687', 'Address': 'P.O. Box 618, 8055 Integer St.', 'City': 'Bosa', 'Country': 'Anguilla', 'Email': 'in@eratEtiam.net'}, {'Name': 'Maggy Cotton', 'Phone': '1-541-405-3049', 'Address': '7304 Euismod Avenue', 'City': 'Sommariva Perno', 'Country': 'Kyrgyzstan', 'Email': 'amet@facilisisvitae.ca'}, {'Name': 'Talon R. May', 'Phone': '143-7688', 'Address': '890-4439 Varius. Avenue', 'City': 'Richmond', 'Country': 'Turkmenistan', 'Email': 'sit.amet.nulla@orciluctus.org'}, {'Name': 'Devin L. Boone', 'Phone': '1-132-242-8605', 'Address': '1488 Dignissim Ave', 'City': 'Teruel', 'Country': 'Switzerland', 'Email': 'nec.tempus.scelerisque@ettristiquepellentesque.ca'}, {'Name': 'Orli E. Baxter', 'Phone': '371-7491', 'Address': '1506 Egestas Rd.', 'City': 'Piła', 'Country': 'Croatia', 'Email': 'eget.tincidunt@Curabiturvellectus.net'}, {'Name': 'Wing Velazquez', 'Phone': '354-5776', 'Address': '859-3576 Tincidunt Street', 'City': 'Oostkamp', 'Country': 'Mayotte', 'Email': 'consequat.nec.mollis@vitaeodiosagittis.edu'}, {'Name': 'Inez Simon', 'Phone': '461-0691', 'Address': 'Ap #788-4701 Aliquet St.', 'City': 'Chaitén', 'Country': 'Antigua and Barbuda', 'Email': 'laoreet@magnaUt.org'}, {'Name': 'Kyle Leonard', 'Phone': '179-3944', 'Address': '685-2553 Ultrices Avenue', 'City': 'Placilla', 'Country': 'Botswana', 'Email': 'Ut.nec@pedeSuspendissedui.edu'}, {'Name': 'Selma Christensen', 'Phone': '978-6407', 'Address': 'Ap #595-189 Malesuada Road', 'City': 'Mira Bhayandar', 'Country': 'Montserrat', 'Email': 'ut@Maecenasiaculis.co.uk'}, {'Name': 'Gwendolyn Crosby', 'Phone': '692-9172', 'Address': '997 Posuere Rd.', 'City': 'San Miguel', 'Country': 'Albania', 'Email': 'molestie.orci.tincidunt@feugiat.org'}, {'Name': 'Gary Alvarez', 'Phone': '1-692-738-4449', 'Address': 'Ap #890-8397 Euismod Ave', 'City': 'Westende', 'Country': 'Dominican Republic', 'Email': 'Donec@consequat.co.uk'}, {'Name': 'Knox L. Cash', 'Phone': '535-9704', 'Address': 'P.O. Box 469, 4278 Condimentum Rd.', 'City': 'Gönen', 'Country': 'American Samoa', 'Email': 'nunc@erat.co.uk'}, {'Name': 'Drake P. Guerrero', 'Phone': '250-6382', 'Address': '6247 Aliquet Av.', 'City': 'Caerphilly', 'Country': 'Guyana', 'Email': 'Maecenas@temporaugueac.com'}, {'Name': 'Blossom Chandler', 'Phone': '142-2607', 'Address': '7121 Diam. Rd.', 'City': 'Illapel', 'Country': 'Czech Republic', 'Email': 'in@est.ca'}, {'Name': 'Joan O. Ingram', 'Phone': '1-889-203-6592', 'Address': '8198 Curae; Av.', 'City': 'Baton Rouge', 'Country': 'Wallis and Futuna', 'Email': 'Suspendisse@lectusNullam.co.uk'}, {'Name': 'Buffy R. Austin', 'Phone': '413-3678', 'Address': '203-4493 A Road', 'City': 'Herentals', 'Country': 'Iraq', 'Email': 'nulla.ante@purus.net'}, {'Name': 'Yoko M. Mcgowan', 'Phone': '1-731-637-5890', 'Address': 'P.O. Box 881, 7563 Nisl. Av.', 'City': 'Bihain', 'Country': 'Guinea', 'Email': 'lobortis.mauris.Suspendisse@seddolor.org'}, {'Name': 'Walker Q. Wolfe', 'Phone': '1-240-595-6907', 'Address': '482-4531 Mauris Rd.', 'City': 'Schepdaal', 'Country': 'Moldova', 'Email': 'vitae@miac.edu'}, {'Name': 'Blake Cross', 'Phone': '979-7498', 'Address': 'Ap #678-3509 Nascetur Av.', 'City': 'Albany', 'Country': 'Sint Maarten', 'Email': 'vel.venenatis.vel@orcilobortis.net'}, {'Name': 'Naida Guthrie', 'Phone': '1-138-699-9182', 'Address': 'P.O. Box 656, 5397 Gravida. Ave', 'City': 'Tulita', 'Country': 'Sudan', 'Email': 'sit.amet@tinciduntvehicularisus.org'}, {'Name': 'Yardley Singleton', 'Phone': '945-1641', 'Address': 'Ap #815-7648 Non Rd.', 'City': 'Duffel', 'Country': 'Botswana', 'Email': 'adipiscing@Duisdignissimtempor.com'}, {'Name': 'Lenore M. Boyer', 'Phone': '513-0044', 'Address': 'Ap #836-7039 Lorem Avenue', 'City': 'Attimis', 'Country': 'Venezuela', 'Email': 'semper.dui.lectus@rutrumnon.com'}, {'Name': 'Edan Cortez', 'Phone': '1-223-433-5209', 'Address': '159-6608 Eu, St.', 'City': 'High Level', 'Country': 'Algeria', 'Email': 'Mauris.vestibulum.neque@odio.ca'}, {'Name': 'Quintessa T. Martinez', 'Phone': '1-672-341-8336', 'Address': '8916 Pede St.', 'City': 'Rothesay', 'Country': 'Tajikistan', 'Email': 'consectetuer@inmagnaPhasellus.edu'}, {'Name': 'Reuben Skinner', 'Phone': '1-790-135-9618', 'Address': 'Ap #810-9918 Enim Street', 'City': 'Essex', 'Country': 'Bahamas', 'Email': 'eu.metus.In@magnis.edu'}, {'Name': 'Yoshio Leblanc', 'Phone': '1-508-613-2127', 'Address': '177-9263 Vitae Ave', 'City': 'Redwater', 'Country': 'Bahamas', 'Email': 'euismod.est@cursusinhendrerit.edu'}, {'Name': 'Rebecca French', 'Phone': '397-3408', 'Address': '870-7596 Eros Rd.', 'City': 'Pocatello', 'Country': 'Northern Mariana Islands', 'Email': 'orci.Phasellus@enim.org'}, {'Name': 'Shana K. Kerr', 'Phone': '354-7392', 'Address': 'Ap #215-8596 Cursus Ave', 'City': 'Toronto', 'Country': 'Estonia', 'Email': 'augue@vitae.edu'}, {'Name': 'Gemma Leonard', 'Phone': '175-7956', 'Address': 'P.O. Box 634, 4298 Elit. Rd.', 'City': 'Cuccaro Vetere', 'Country': 'Saudi Arabia', 'Email': 'mi.lorem@Maurismolestie.co.uk'}, {'Name': 'Adara Estrada', 'Phone': '1-893-111-1453', 'Address': '624-5679 Nulla. Rd.', 'City': 'Gijzelbrechtegem', 'Country': 'Kyrgyzstan', 'Email': 'faucibus.ut.nulla@dapibus.ca'}] \n",
      "\n",
      "100\n",
      "[['Afghanistan'], ['Albania'], ['Algeria'], ['American Samoa'], ['Anguilla'], ['Antigua and Barbuda'], ['Austria'], ['Bahamas'], ['Bonaire, Sint Eustatius and Saba'], ['Botswana'], ['Burkina Faso'], ['Cambodia'], ['Canada'], ['Cayman Islands'], ['Chile'], ['Cocos (Keeling) Islands'], ['Congo (Brazzaville)'], ['Croatia'], ['Czech Republic'], ['Dominica'], ['Dominican Republic'], ['Egypt'], ['Eritrea'], ['Estonia'], ['Faroe Islands'], ['France'], ['Ghana'], ['Guatemala'], ['Guinea'], ['Guyana'], ['Holy See (Vatican City State)'], ['Hong Kong'], ['Indonesia'], ['Iran'], ['Iraq'], ['Ireland'], ['Isle of Man'], ['Israel'], ['Italy'], ['Jamaica'], ['Kuwait'], ['Kyrgyzstan'], ['Latvia'], ['Lesotho'], ['Macao'], ['Malawi'], ['Marshall Islands'], ['Mauritius'], ['Mayotte'], ['Moldova'], ['Montserrat'], ['Morocco'], ['Nauru'], ['Niger'], ['Northern Mariana Islands'], ['Norway'], ['Palestine, State of'], ['Qatar'], ['Romania'], ['Rwanda'], ['Saint Pierre and Miquelon'], ['Saint Vincent and The Grenadines'], ['Samoa'], ['Saudi Arabia'], ['Sint Maarten'], ['Slovakia'], ['Somalia'], ['South Georgia and The South Sandwich Islands'], ['Sudan'], ['Switzerland'], ['Taiwan'], ['Tajikistan'], ['Togo'], ['Tunisia'], ['Turkmenistan'], ['Turks and Caicos Islands'], ['Uganda'], ['Ukraine'], ['United States'], ['Uruguay'], ['Venezuela'], ['Wallis and Futuna'], ['Western Sahara'], ['Zambia']] \n",
      "\n",
      "[['Aenean.edu'], ['Aliquamfringilla.com'], ['Curabiturvellectus.net'], ['Curae.com'], ['Duisdignissimtempor.com'], ['Lorem.net'], ['Maecenasiaculis.co.uk'], ['Maurismolestie.co.uk'], ['Namligula.edu'], ['Phasellusdapibus.edu'], ['Quisqueimperdiet.ca'], ['Sedpharetrafelis.org'], ['Suspendisse.co.uk'], ['aenim.ca'], ['ametrisus.com'], ['anteblanditviverra.co.uk'], ['arcu.org'], ['arcuVestibulumante.org'], ['blanditatnisi.ca'], ['consectetuercursuset.org'], ['consequat.co.uk'], ['consequat.com'], ['convallisdolor.co.uk'], ['cursuset.net'], ['cursusinhendrerit.edu'], ['dapibus.ca'], ['diamPellentesquehabitant.com'], ['dictumeu.org'], ['dui.co.uk'], ['duinecurna.org'], ['egestas.co.uk'], ['egestas.net'], ['egestasadui.co.uk'], ['enim.org'], ['erat.co.uk'], ['erat.org'], ['eratEtiam.net'], ['eros.ca'], ['est.ca'], ['etlacinia.com'], ['ettristiquepellentesque.ca'], ['eudolor.edu'], ['euultrices.co.uk'], ['facilisisvitae.ca'], ['fermentumarcu.edu'], ['feugiat.org'], ['fringilla.edu'], ['inmagnaPhasellus.edu'], ['interdumfeugiatSed.edu'], ['ipsumprimis.com'], ['laciniaorciconsectetuer.ca'], ['lectusNullam.co.uk'], ['liberoDonec.net'], ['ligulaelitpretium.org'], ['magna.com'], ['magnaUt.org'], ['magnis.edu'], ['magnisdisparturient.co.uk'], ['malesuadamalesuadaInteger.ca'], ['maurisipsum.edu'], ['miac.edu'], ['nectellusNunc.net'], ['nisi.co.uk'], ['nonbibendum.edu'], ['nullamagna.edu'], ['nuncinterdum.edu'], ['odio.ca'], ['odioAliquamvulputate.edu'], ['orcilobortis.net'], ['orciluctus.org'], ['ornare.org'], ['ornarelectusjusto.net'], ['pedeSuspendissedui.edu'], ['placerat.ca'], ['placerataugueSed.com'], ['posuereat.net'], ['purus.ca'], ['purus.net'], ['quam.net'], ['quis.ca'], ['risusDonec.net'], ['risusaultricies.co.uk'], ['rutrumnon.com'], ['seddolor.org'], ['sedsapien.ca'], ['suscipitest.ca'], ['temporaugueac.com'], ['tinciduntaliquamarcu.com'], ['tinciduntpedeac.com'], ['tinciduntvehicularisus.org'], ['tortordictumeu.org'], ['ullamcorper.ca'], ['ullamcorper.co.uk'], ['ultrices.org'], ['urnanec.net'], ['ut.org'], ['velesttempor.edu'], ['vitae.edu'], ['vitaeeratVivamus.net'], ['vitaeodiosagittis.edu']]\n",
      "[['Adara'], ['Alana'], ['Alexandra'], ['Arden'], ['Ariana'], ['Berk'], ['Blake'], ['Blossom'], ['Brynne'], ['Buffy'], ['Cairo'], ['Calvin'], ['Cameron'], ['Casey'], ['Chantale'], ['Charles'], ['Cherokee'], ['Chloe'], ['Clayton'], ['Colby'], ['Cole'], ['Devin'], ['Drake'], ['Eaton'], ['Edan'], ['Flynn'], ['Freya'], ['Gabriel'], ['Gail'], ['Gary'], ['Genevieve'], ['Gwendolyn'], ['Hanae'], ['Harding'], ['Hillary'], ['Idona'], ['Inez'], ['Jane'], ['Jescie'], ['Joan'], ['Kay'], ['Keane'], ['Kessie'], ['Kyle'], ['Lawrence'], ['Lenore'], ['Lucian'], ['Maggy'], ['Malik'], ['Mason'], ['Mason'], ['Melodie'], ['Meredith'], ['Michael'], ['Morgan'], ['Orli'], ['Paul'], ['Quintessa'], ['Rajah'], ['Rama'], ['Rana'], ['Rebecca'], ['Reuben'], ['Selma'], ['Shana'], ['Talon'], ['Tara'], ['Tatyana'], ['Thane'], ['Timothy'], ['Walker'], ['Walter'], ['Warren'], ['Wing'], ['Yardley'], ['Yen'], ['Yoshio'], ['Zachery']]\n",
      "[['Afghanistan', 'Rajah Carrillo'], ['Albania', 'Gwendolyn Crosby'], ['Algeria', 'Edan Cortez'], ['American Samoa', 'Knox L. Cash'], ['Anguilla', 'Ginger Morse'], ['Anguilla', 'Thane Burch'], ['Antigua and Barbuda', 'Inez Simon'], ['Austria', 'Jane Joyner'], ['Bahamas', 'Reuben Skinner'], ['Bahamas', 'Yoshio Leblanc'], ['Bonaire, Sint Eustatius and Saba', 'Kessie Morgan'], ['Botswana', 'Kyle Leonard'], ['Botswana', 'Yardley Singleton'], ['Burkina Faso', 'Jenna Mercado'], ['Cambodia', 'Gabriel Richmond'], ['Canada', 'Rana Z. Colon'], ['Cayman Islands', 'Wesley Z. Sharp'], ['Chile', 'Berk Finley'], ['Cocos (Keeling) Islands', 'Eaton Nelson'], ['Congo (Brazzaville)', 'Katelyn Munoz'], ['Congo (Brazzaville)', 'Malik Grimes'], ['Croatia', 'Orli E. Baxter'], ['Czech Republic', 'Blossom Chandler'], ['Czech Republic', 'Meredith F. Clayton'], ['Dominica', 'Tara Bender'], ['Dominican Republic', 'Ariana M. Olson'], ['Dominican Republic', 'Gary Alvarez'], ['Egypt', 'Timothy Chambers'], ['Eritrea', 'Tatyana H. French'], ['Estonia', 'Shana K. Kerr'], ['Faroe Islands', 'Idona W. Bonner'], ['France', 'Colby Moran'], ['Ghana', 'Rina W. Harris'], ['Guatemala', 'Michael Riddle'], ['Guinea', 'Yoko M. Mcgowan'], ['Guyana', 'Drake P. Guerrero'], ['Holy See (Vatican City State)', 'Jescie Sargent'], ['Hong Kong', 'Katell Simmons'], ['Hong Kong', 'Zachery Wilcox'], ['Indonesia', 'Maggy Wooten'], ['Iran', 'Casey Mcgowan'], ['Iraq', 'Buffy R. Austin'], ['Ireland', 'Quyn Serrano'], ['Ireland', 'Warren Castillo'], ['Isle of Man', 'Kay Rice'], ['Isle of Man', 'Yen P. Browning'], ['Israel', 'Alana Vasquez'], ['Israel', 'Cooper T. Horton'], ['Italy', 'Arden Leonard'], ['Jamaica', 'Rama W. Mack'], ['Kuwait', 'Bevis M. Santos'], ['Kyrgyzstan', 'Adara Estrada'], ['Kyrgyzstan', 'Elijah Myers'], ['Kyrgyzstan', 'Maggy Cotton'], ['Latvia', 'Lawrence Z. Carrillo'], ['Lesotho', 'Cairo Wolfe'], ['Macao', 'Cole X. Hopper'], ['Malawi', 'Alexandra E. Saunders'], ['Marshall Islands', 'Gail Villarreal'], ['Mauritius', 'Chantale Sharpe'], ['Mayotte', 'Wing Velazquez'], ['Moldova', 'Walker Q. Wolfe'], ['Montserrat', 'Harding Salinas'], ['Montserrat', 'Selma Christensen'], ['Morocco', 'Chloe Burnett'], ['Nauru', 'Morgan Y. Little'], ['Niger', 'Walter R. Gaines'], ['Northern Mariana Islands', 'Rebecca French'], ['Norway', 'Melodie Knox'], ['Palestine, State of', 'Camden Z. Blair'], ['Qatar', 'Hanae P. Walsh'], ['Romania', 'Calvin Herman'], ['Romania', 'Flynn Alston'], ['Rwanda', 'Freya B. Fischer'], ['Saint Pierre and Miquelon', 'Indira L. Mccormick'], ['Saint Vincent and The Grenadines', 'Sydney Anderson'], ['Samoa', 'Brynne S. Barr'], ['Saudi Arabia', 'Gemma Leonard'], ['Sint Maarten', 'Blake Cross'], ['Slovakia', 'Ulla Russo'], ['Somalia', 'Paul Merrill'], ['South Georgia and The South Sandwich Islands', 'Charles F. Crawford'], ['Sudan', 'Mason R. Trujillo'], ['Sudan', 'Naida Guthrie'], ['Switzerland', 'Devin L. Boone'], ['Taiwan', 'Cyrus Buckley'], ['Tajikistan', 'Quintessa T. Martinez'], ['Togo', 'Hillary Benton'], ['Tunisia', 'Drake Savage'], ['Turkmenistan', 'Talon R. May'], ['Turks and Caicos Islands', 'Cameron Guthrie'], ['Turks and Caicos Islands', 'Keane Stein'], ['Uganda', 'Mason E. Kelly'], ['Ukraine', 'Cherokee George'], ['United States', 'Clayton Harmon'], ['Uruguay', 'Genevieve Holland'], ['Venezuela', 'Lenore M. Boyer'], ['Wallis and Futuna', 'Joan O. Ingram'], ['Western Sahara', 'Lucian W. Lynn'], ['Zambia', 'Garrison Lindsey']] \n",
      "\n",
      "[['Rajah Carrillo'], ['Gwendolyn Crosby'], ['Edan Cortez'], ['Knox L. Cash'], ['Ginger Morse']]\n",
      "[['Tatyana H. French'], ['Jane Joyner'], ['Devin L. Boone'], ['Naida Guthrie'], ['Casey Mcgowan']]\n"
     ]
    }
   ],
   "source": [
    "# Your name here\n",
    "\n",
    "### ASSUMPTIONS:\n",
    "# Please write the assumptions here that you made during your data analysis\n",
    "# Please keep this code at the very top of your code block so we can easily see it while grading!\n",
    "\n",
    "# YOU MAY USE ANY NUMBER OF CELLS AS YOU NEED\n",
    "# YOUR CODE HERE\n",
    "\n",
    "import json\n",
    "import csv\n",
    "import pickle\n",
    "\n",
    "json_data_read = open('data.json', 'rt')\n",
    "json_data = json.loads(json_data_read.read())\n",
    "json_data_read.close()\n",
    "#print(json_data,'\\n\\n')\n",
    "\n",
    "csv_data_read = open('data.csv', 'rt')\n",
    "csv_data = list(csv.reader(csv_data_read))\n",
    "csv_data_read.close()\n",
    "#print(csv_data)\n",
    "\n",
    "pickle_data_read = open('data.pkl', 'rb')\n",
    "pickle_data = pickle.load(pickle_data_read)\n",
    "pickle_data_read.close()\n",
    "\n",
    "\n",
    "# Read in all of the files and combine them into some standard format\n",
    "full_data = []\n",
    "for i in range(len(csv_data)):\n",
    "    \n",
    "    if i != 0:\n",
    "        row = {}\n",
    "        row['Name'] = csv_data[i][1]\n",
    "        row['Phone'] = csv_data[i][2]\n",
    "        row['Address'] = csv_data[i][3]\n",
    "        row['City'] = csv_data[i][4]\n",
    "        row['Country'] = csv_data[i][5]\n",
    "        row['Email'] = csv_data[i][6]\n",
    "        full_data.append(row)\n",
    "    \n",
    "for i in range(20,40):\n",
    "    j = str(i)\n",
    "    row = {}\n",
    "    \n",
    "    row['Name'] = json_data['Name'][j]\n",
    "    row['Phone'] = json_data['Phone'][j]\n",
    "    row['Address'] = json_data['Address'][j]\n",
    "    row['City'] = json_data['City'][j]\n",
    "    row['Country'] = json_data['Country'][j]\n",
    "    row['Email'] = json_data['Email'][j]\n",
    "    \n",
    "    full_data.append(row)\n",
    "\n",
    "for i in range(40,100):\n",
    "    row = {}\n",
    "    row['Name'] = pickle_data['Name'][i]\n",
    "    row['Phone'] = pickle_data['Phone'][i]\n",
    "    row['Address'] = pickle_data['Address'][i]\n",
    "    row['City'] = pickle_data['City'][i]\n",
    "    row['Country'] = pickle_data['Country'][i]\n",
    "    row['Email'] = pickle_data['Email'][i]\n",
    "    \n",
    "    full_data.append(row)\n",
    "    \n",
    "    \n",
    "print(full_data,'\\n')\n",
    "print(len(full_data))\n",
    "\n",
    "# 1. Sort Unique Countries Alphabetically\n",
    "countries = []\n",
    "for i in full_data:\n",
    "    if [i['Country']] not in countries:\n",
    "        countries.append([i['Country']])\n",
    "countries.sort()\n",
    "print(countries,'\\n')\n",
    "\n",
    "csv_write = open('question_1.csv', 'wt',newline='')\n",
    "csv_out = csv.writer(csv_write)\n",
    "csv_out.writerows(countries)\n",
    "csv_write.close()\n",
    "\n",
    "# 2. Sort Unique Email Domains Alphabetically\n",
    "#    From wpbeginner.com: An email domain is the web address that comes after the @ symbol in an email address. \n",
    "#    For example, in an email like syed@companyname.com, “compnayname.com” is the email domain.\n",
    "\n",
    "domains = []\n",
    "for i in full_data:\n",
    "    domain = i['Email'][i['Email'].index('@')+1:]\n",
    "    if [domain] not in domains:\n",
    "        domains.append([domain])\n",
    "domains.sort()\n",
    "print(domains)\n",
    "\n",
    "csv_write = open('question_2.csv', 'wt', newline='')\n",
    "csv_out = csv.writer(csv_write)\n",
    "csv_out.writerows(domains)\n",
    "csv_write.close()\n",
    "\n",
    "# 3. First names of everyone (including duplicates) that do not have a P.O. Box address, sorted alphabetically\n",
    "\n",
    "first_names = []\n",
    "for i in full_data:\n",
    "    if i['Address'][0:8] != 'P.O. Box':\n",
    "        first_names.append([i['Name'][:i['Name'].index(' ')]])\n",
    "\n",
    "first_names.sort()\n",
    "print(first_names)\n",
    "\n",
    "csv_write = open('question_3.csv', 'wt', newline='')\n",
    "csv_out = csv.writer(csv_write)\n",
    "csv_out.writerows(first_names)\n",
    "csv_write.close()\n",
    "\n",
    "\n",
    "# 4. Full names of the first 5 people when you sort the data alphabetically by country\n",
    "name_country = []\n",
    "for i in full_data:\n",
    "    pair = []\n",
    "    pair.append(i[\"Country\"])\n",
    "    pair.append(i[\"Name\"])\n",
    "    name_country.append(pair)\n",
    "name_country.sort()\n",
    "\n",
    "print(name_country, '\\n')\n",
    "\n",
    "selection = []\n",
    "for i in range(0,5):\n",
    "    selection.append([name_country[i][1]])\n",
    "print(selection)\n",
    "\n",
    "csv_write = open('question_4.csv', 'wt', newline='')\n",
    "csv_out = csv.writer(csv_write)\n",
    "csv_out.writerows(selection)\n",
    "csv_write.close()\n",
    "\n",
    "# 5. Full names of the first 5 people when you sort the data numerically ascending by phone number\n",
    "name_pn = []\n",
    "for i in full_data:\n",
    "    npn = []\n",
    "    npn.append(i['Phone'])\n",
    "    npn.append(i['Name'])\n",
    "    name_pn.append(npn)\n",
    "\n",
    "name_pn.sort()\n",
    "selection = []\n",
    "\n",
    "for i in range(0,5):\n",
    "    selection.append([name_pn[i][1]])\n",
    "    \n",
    "print(selection)\n",
    "\n",
    "csv_write = open('question_5.csv', 'wt', newline='')\n",
    "csv_out = csv.writer(csv_write)\n",
    "csv_out.writerows(selection)\n",
    "csv_write.close()"
   ]
  },
  {
   "cell_type": "code",
   "execution_count": null,
   "metadata": {
    "deletable": false,
    "editable": false,
    "nbgrader": {
     "cell_type": "code",
     "checksum": "b72924766f14c62e1e59d2a7fa58fac9",
     "grade": true,
     "grade_id": "cell-74508624757f05eb",
     "locked": true,
     "points": 15,
     "schema_version": 3,
     "solution": false
    }
   },
   "outputs": [],
   "source": [
    "# Autograde cell - do not erase/delete"
   ]
  },
  {
   "cell_type": "code",
   "execution_count": null,
   "metadata": {
    "deletable": false,
    "editable": false,
    "nbgrader": {
     "cell_type": "code",
     "checksum": "61094a28e1c8a229ddc972e1decaaa7c",
     "grade": true,
     "grade_id": "cell-3279313500065f9f",
     "locked": true,
     "points": 10,
     "schema_version": 3,
     "solution": false
    }
   },
   "outputs": [],
   "source": [
    "# Autograde cell - do not erase/delete"
   ]
  },
  {
   "cell_type": "code",
   "execution_count": null,
   "metadata": {
    "deletable": false,
    "editable": false,
    "nbgrader": {
     "cell_type": "code",
     "checksum": "a9c88cdddbf58183e90a3778ad1fe5b4",
     "grade": true,
     "grade_id": "cell-3e8cd92ecc8d286f",
     "locked": true,
     "points": 15,
     "schema_version": 3,
     "solution": false
    }
   },
   "outputs": [],
   "source": [
    "# Autograde cell - do not erase/delete"
   ]
  },
  {
   "cell_type": "code",
   "execution_count": null,
   "metadata": {
    "deletable": false,
    "editable": false,
    "nbgrader": {
     "cell_type": "code",
     "checksum": "d6ead2aaf9e4412073744c9e8e307a9b",
     "grade": true,
     "grade_id": "cell-4c4abfb9df4037df",
     "locked": true,
     "points": 15,
     "schema_version": 3,
     "solution": false
    }
   },
   "outputs": [],
   "source": [
    "# Autograde cell - do not erase/delete"
   ]
  },
  {
   "cell_type": "code",
   "execution_count": null,
   "metadata": {
    "deletable": false,
    "editable": false,
    "nbgrader": {
     "cell_type": "code",
     "checksum": "e2db3c9236bccf54a1aca338f9a4607d",
     "grade": true,
     "grade_id": "cell-43e8a4cadc4f7f39",
     "locked": true,
     "points": 15,
     "schema_version": 3,
     "solution": false
    }
   },
   "outputs": [],
   "source": [
    "# Autograde cell - do not erase/delete"
   ]
  },
  {
   "cell_type": "code",
   "execution_count": null,
   "metadata": {
    "deletable": false,
    "editable": false,
    "nbgrader": {
     "cell_type": "code",
     "checksum": "cd709de9cced0764ed39edc63e0da0b9",
     "grade": true,
     "grade_id": "cell-e5bf902a45a8dd69",
     "locked": true,
     "points": 15,
     "schema_version": 3,
     "solution": false
    }
   },
   "outputs": [],
   "source": [
    "# Autograde cell - do not erase/delete"
   ]
  },
  {
   "cell_type": "code",
   "execution_count": null,
   "metadata": {
    "deletable": false,
    "editable": false,
    "nbgrader": {
     "cell_type": "code",
     "checksum": "b59a38d2f8056f5b6a3492a5e4525ea7",
     "grade": true,
     "grade_id": "cell-2f15bb137bfe5b16",
     "locked": true,
     "points": 15,
     "schema_version": 3,
     "solution": false
    }
   },
   "outputs": [],
   "source": [
    "# Autograde cell - do not erase/delete"
   ]
  }
 ],
 "metadata": {
  "anaconda-cloud": {},
  "kernelspec": {
   "display_name": "Python 3",
   "language": "python",
   "name": "python3"
  },
  "language_info": {
   "codemirror_mode": {
    "name": "ipython",
    "version": 3
   },
   "file_extension": ".py",
   "mimetype": "text/x-python",
   "name": "python",
   "nbconvert_exporter": "python",
   "pygments_lexer": "ipython3",
   "version": "3.7.6"
  }
 },
 "nbformat": 4,
 "nbformat_minor": 1
}
