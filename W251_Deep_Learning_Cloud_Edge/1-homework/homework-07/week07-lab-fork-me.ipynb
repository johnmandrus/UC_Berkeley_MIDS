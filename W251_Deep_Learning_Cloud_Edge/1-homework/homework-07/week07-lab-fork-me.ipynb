{
 "cells": [
  {
   "cell_type": "code",
   "execution_count": 1,
   "metadata": {
    "execution": {
     "iopub.execute_input": "2021-06-16T20:59:13.208148Z",
     "iopub.status.busy": "2021-06-16T20:59:13.207461Z"
    }
   },
   "outputs": [],
   "source": [
    "%%capture\n",
    "from IPython.display import Image as ImageIpython\n",
    "from IPython.core.display import HTML "
   ]
  },
  {
   "cell_type": "markdown",
   "metadata": {},
   "source": [
    "\n",
    "## Table of contents\n",
    "* [Initial Setup](#section-one)\n",
    "* [LR Schedulers & Question](#section-two)\n",
    "* [Mixup & Question](#section-three)\n",
    "* [Architectures & Question](#section-four)\n",
    "* [Mixed Precision & Question](#section-five)\n",
    "* [Label Smoothing & Question](#section-six)"
   ]
  },
  {
   "cell_type": "code",
   "execution_count": 2,
   "metadata": {
    "execution": {
     "iopub.execute_input": "2021-06-10T06:46:22.220925Z",
     "iopub.status.busy": "2021-06-10T06:46:22.220593Z",
     "iopub.status.idle": "2021-06-10T06:46:22.229726Z",
     "shell.execute_reply": "2021-06-10T06:46:22.228539Z",
     "shell.execute_reply.started": "2021-06-10T06:46:22.220886Z"
    },
    "jupyter": {
     "source_hidden": true
    }
   },
   "outputs": [
    {
     "name": "stdout",
     "output_type": "stream",
     "text": [
      "Imagenet improvement on Resnet-50 using tricks\n"
     ]
    },
    {
     "data": {
      "text/html": [
       "<img src=\"https://miro.medium.com/max/890/1*4y2Rdl0i-kvNh2SCMZZBuw.png\"/>"
      ],
      "text/plain": [
       "<IPython.core.display.Image object>"
      ]
     },
     "execution_count": 2,
     "metadata": {},
     "output_type": "execute_result"
    }
   ],
   "source": [
    "print(\"Imagenet improvement on Resnet-50 using tricks\")\n",
    "ImageIpython(url= \"https://miro.medium.com/max/890/1*4y2Rdl0i-kvNh2SCMZZBuw.png\")"
   ]
  },
  {
   "cell_type": "markdown",
   "metadata": {},
   "source": [
    "<a id=\"section-one\"></a>\n",
    "## Initial Set up - just run through these steps"
   ]
  },
  {
   "cell_type": "code",
   "execution_count": 3,
   "metadata": {
    "execution": {
     "iopub.execute_input": "2021-06-10T06:46:22.23173Z",
     "iopub.status.busy": "2021-06-10T06:46:22.23136Z",
     "iopub.status.idle": "2021-06-10T06:46:22.239313Z",
     "shell.execute_reply": "2021-06-10T06:46:22.238267Z",
     "shell.execute_reply.started": "2021-06-10T06:46:22.231694Z"
    }
   },
   "outputs": [
    {
     "name": "stdout",
     "output_type": "stream",
     "text": [
      "Requirement already satisfied: opencv-python in c:\\users\\john\\anaconda3\\lib\\site-packages (4.5.2.54)\n",
      "Requirement already satisfied: numpy>=1.14.5 in c:\\users\\john\\anaconda3\\lib\\site-packages (from opencv-python) (1.18.1)\n"
     ]
    }
   ],
   "source": [
    "import time\n",
    "from tqdm import tqdm_notebook as tqdm\n",
    "#import tqdm.notebook import tqdm\n",
    "!pip install opencv-python\n",
    "import cv2\n",
    "from PIL import Image\n",
    "import numpy as np\n",
    "import pandas as pd\n",
    "import torch\n",
    "import albumentations as A\n",
    "from albumentations.pytorch import ToTensorV2\n",
    "from torch.utils.data import DataLoader, Dataset\n",
    "from torch.optim import lr_scheduler\n",
    "import timm\n",
    "import warnings\n",
    "warnings.filterwarnings('ignore')"
   ]
  },
  {
   "cell_type": "code",
   "execution_count": null,
   "metadata": {},
   "outputs": [
    {
     "name": "stdout",
     "output_type": "stream",
     "text": [
      "Requirement already satisfied: kaggle in c:\\users\\john\\anaconda3\\lib\\site-packages (1.5.12)\n",
      "Requirement already satisfied: python-slugify in c:\\users\\john\\anaconda3\\lib\\site-packages (from kaggle) (5.0.2)\n",
      "Requirement already satisfied: six>=1.10 in c:\\users\\john\\anaconda3\\lib\\site-packages (from kaggle) (1.14.0)\n",
      "Requirement already satisfied: requests in c:\\users\\john\\anaconda3\\lib\\site-packages (from kaggle) (2.22.0)\n",
      "Requirement already satisfied: python-dateutil in c:\\users\\john\\anaconda3\\lib\\site-packages (from kaggle) (2.8.1)\n",
      "Requirement already satisfied: urllib3 in c:\\users\\john\\anaconda3\\lib\\site-packages (from kaggle) (1.25.8)\n",
      "Requirement already satisfied: certifi in c:\\users\\john\\anaconda3\\lib\\site-packages (from kaggle) (2019.11.28)\n",
      "Requirement already satisfied: tqdm in c:\\users\\john\\anaconda3\\lib\\site-packages (from kaggle) (4.42.1)\n",
      "Requirement already satisfied: text-unidecode>=1.3 in c:\\users\\john\\anaconda3\\lib\\site-packages (from python-slugify->kaggle) (1.3)\n",
      "Requirement already satisfied: idna<2.9,>=2.5 in c:\\users\\john\\anaconda3\\lib\\site-packages (from requests->kaggle) (2.8)\n",
      "Requirement already satisfied: chardet<3.1.0,>=3.0.2 in c:\\users\\john\\anaconda3\\lib\\site-packages (from requests->kaggle) (3.0.4)\n"
     ]
    }
   ],
   "source": [
    "# !pip install kaggle\n",
    "# !kaggle competitions download -c midsw251birds"
   ]
  },
  {
   "cell_type": "code",
   "execution_count": 4,
   "metadata": {
    "execution": {
     "iopub.execute_input": "2021-06-10T06:46:22.241422Z",
     "iopub.status.busy": "2021-06-10T06:46:22.241015Z",
     "iopub.status.idle": "2021-06-10T06:46:22.908449Z",
     "shell.execute_reply": "2021-06-10T06:46:22.907309Z",
     "shell.execute_reply.started": "2021-06-10T06:46:22.241365Z"
    }
   },
   "outputs": [
    {
     "name": "stderr",
     "output_type": "stream",
     "text": [
      "'ls' is not recognized as an internal or external command,\n",
      "operable program or batch file.\n"
     ]
    }
   ],
   "source": [
    "#!ls -l ../input/midsw251birds"
   ]
  },
  {
   "cell_type": "code",
   "execution_count": 4,
   "metadata": {
    "execution": {
     "iopub.execute_input": "2021-06-10T06:46:22.91216Z",
     "iopub.status.busy": "2021-06-10T06:46:22.911877Z",
     "iopub.status.idle": "2021-06-10T06:46:22.916206Z",
     "shell.execute_reply": "2021-06-10T06:46:22.915384Z",
     "shell.execute_reply.started": "2021-06-10T06:46:22.91213Z"
    }
   },
   "outputs": [],
   "source": [
    "class args:\n",
    "    lr = 0.0001\n",
    "    epochs = 5\n",
    "    batch_size = 32\n",
    "    num_workers = 8\n",
    "    folds = 5"
   ]
  },
  {
   "cell_type": "code",
   "execution_count": 9,
   "metadata": {
    "execution": {
     "iopub.execute_input": "2021-06-10T06:46:22.918644Z",
     "iopub.status.busy": "2021-06-10T06:46:22.917813Z",
     "iopub.status.idle": "2021-06-10T06:46:22.975411Z",
     "shell.execute_reply": "2021-06-10T06:46:22.974666Z",
     "shell.execute_reply.started": "2021-06-10T06:46:22.918604Z"
    }
   },
   "outputs": [
    {
     "name": "stdout",
     "output_type": "stream",
     "text": [
      "File shapes -- train : (26379, 2), valid : (6595, 2), test : (8244, 1)\n"
     ]
    },
    {
     "data": {
      "text/html": [
       "<div>\n",
       "<style scoped>\n",
       "    .dataframe tbody tr th:only-of-type {\n",
       "        vertical-align: middle;\n",
       "    }\n",
       "\n",
       "    .dataframe tbody tr th {\n",
       "        vertical-align: top;\n",
       "    }\n",
       "\n",
       "    .dataframe thead th {\n",
       "        text-align: right;\n",
       "    }\n",
       "</style>\n",
       "<table border=\"1\" class=\"dataframe\">\n",
       "  <thead>\n",
       "    <tr style=\"text-align: right;\">\n",
       "      <th></th>\n",
       "      <th>filename</th>\n",
       "      <th>label</th>\n",
       "    </tr>\n",
       "  </thead>\n",
       "  <tbody>\n",
       "    <tr>\n",
       "      <th>1</th>\n",
       "      <td>train/bb99f4bea973.jpg</td>\n",
       "      <td>147</td>\n",
       "    </tr>\n",
       "    <tr>\n",
       "      <th>2</th>\n",
       "      <td>train/50923ceb3ffd.jpg</td>\n",
       "      <td>147</td>\n",
       "    </tr>\n",
       "    <tr>\n",
       "      <th>3</th>\n",
       "      <td>train/f9fc3c6da5d7.jpg</td>\n",
       "      <td>147</td>\n",
       "    </tr>\n",
       "    <tr>\n",
       "      <th>4</th>\n",
       "      <td>train/dfe8cb1855fe.jpg</td>\n",
       "      <td>147</td>\n",
       "    </tr>\n",
       "    <tr>\n",
       "      <th>6</th>\n",
       "      <td>train/4fe53a096533.jpg</td>\n",
       "      <td>147</td>\n",
       "    </tr>\n",
       "  </tbody>\n",
       "</table>\n",
       "</div>"
      ],
      "text/plain": [
       "                 filename  label\n",
       "1  train/bb99f4bea973.jpg    147\n",
       "2  train/50923ceb3ffd.jpg    147\n",
       "3  train/f9fc3c6da5d7.jpg    147\n",
       "4  train/dfe8cb1855fe.jpg    147\n",
       "6  train/4fe53a096533.jpg    147"
      ]
     },
     "execution_count": 9,
     "metadata": {},
     "output_type": "execute_result"
    }
   ],
   "source": [
    "alldf = pd.read_csv('train.csv')\n",
    "# Split the training dataset into a training and a validation\n",
    "valdf = alldf[::args.folds]\n",
    "trndf = alldf[~alldf.filename.isin(valdf.filename)]\n",
    "# Load our test data\n",
    "tstdf = pd.read_csv('test.csv')\n",
    "metadf = pd.read_csv('metadata.csv')\n",
    "metadf = metadf.set_index('label')\n",
    "print(f'File shapes -- train : {trndf.shape}, valid : {valdf.shape}, test : {tstdf.shape}')\n",
    "trndf.head()"
   ]
  },
  {
   "cell_type": "code",
   "execution_count": 10,
   "metadata": {
    "execution": {
     "iopub.execute_input": "2021-06-10T06:46:22.979558Z",
     "iopub.status.busy": "2021-06-10T06:46:22.979291Z",
     "iopub.status.idle": "2021-06-10T06:46:22.989146Z",
     "shell.execute_reply": "2021-06-10T06:46:22.987997Z",
     "shell.execute_reply.started": "2021-06-10T06:46:22.979533Z"
    }
   },
   "outputs": [],
   "source": [
    "imgnetmeans = [0.22363983, 0.18190407, 0.2523437 ]\n",
    "imgnetstds = [0.32451536, 0.2956294,  0.31335256]\n",
    "# Using albumentations, check some examples here : https://albumentations.readthedocs.io/en/latest/examples.html \n",
    "def trntransforms():\n",
    "    return A.Compose([\n",
    "        A.HorizontalFlip(p=0.5),\n",
    "        A.Transpose(p=0.5),\n",
    "        ToTensorV2(),\n",
    "        ])\n",
    "\n",
    "def tsttransforms():\n",
    "    return A.Compose([\n",
    "        ToTensorV2(),\n",
    "    ])\n",
    "\n",
    "class BirdDataset(Dataset):\n",
    "    def __init__(self, df, mode, transform=None):\n",
    "        self.data = df\n",
    "        self.img_dir = '../input/midsw251birds/'\n",
    "        self.transform = transform\n",
    "        self.mode = mode\n",
    "\n",
    "    def __len__(self):\n",
    "        return len(self.data)\n",
    "\n",
    "    def __getitem__(self, idx):\n",
    "        \n",
    "        fname = self.data.iloc[idx]['filename']\n",
    "        image = cv2.imread(f'{self.img_dir}/{fname}')\n",
    "        if self.transform is not None:\n",
    "            image = self.transform(image = image)['image']\n",
    "        image = image.float() / 255.\n",
    "        label = -1 if self.mode=='test' else self.data.iloc[idx]['label']\n",
    "        \n",
    "        return image, label"
   ]
  },
  {
   "cell_type": "code",
   "execution_count": 11,
   "metadata": {
    "execution": {
     "iopub.execute_input": "2021-06-10T06:46:22.991677Z",
     "iopub.status.busy": "2021-06-10T06:46:22.991279Z",
     "iopub.status.idle": "2021-06-10T06:46:23.002479Z",
     "shell.execute_reply": "2021-06-10T06:46:23.00151Z",
     "shell.execute_reply.started": "2021-06-10T06:46:22.99164Z"
    }
   },
   "outputs": [],
   "source": [
    "# Define our dataset\n",
    "trndataset = BirdDataset(trndf, 'train', trntransforms())\n",
    "valdataset = BirdDataset(valdf, 'valid', tsttransforms())\n",
    "tstdataset = BirdDataset(tstdf, 'test', tsttransforms())\n",
    "loaderargs = {'num_workers' : args.num_workers, 'batch_size':args.batch_size, 'pin_memory': False, 'drop_last': False}\n",
    "trnloader = DataLoader(trndataset, shuffle = True, **loaderargs)\n",
    "valloader = DataLoader(valdataset, shuffle = False, **loaderargs)\n",
    "tstloader = DataLoader(tstdataset, shuffle = False, **loaderargs)"
   ]
  },
  {
   "cell_type": "code",
   "execution_count": 12,
   "metadata": {
    "execution": {
     "iopub.execute_input": "2021-06-10T06:46:23.004588Z",
     "iopub.status.busy": "2021-06-10T06:46:23.003949Z",
     "iopub.status.idle": "2021-06-10T06:46:23.293692Z",
     "shell.execute_reply": "2021-06-10T06:46:23.292817Z",
     "shell.execute_reply.started": "2021-06-10T06:46:23.00455Z"
    }
   },
   "outputs": [
    {
     "name": "stderr",
     "output_type": "stream",
     "text": [
      "Downloading: \"https://github.com/rwightman/pytorch-image-models/releases/download/v0.1-weights/efficientnet_b2_ra-bcdf34b7.pth\" to C:\\Users\\John/.cache\\torch\\hub\\checkpoints\\efficientnet_b2_ra-bcdf34b7.pth\n"
     ]
    },
    {
     "ename": "AssertionError",
     "evalue": "Torch not compiled with CUDA enabled",
     "output_type": "error",
     "traceback": [
      "\u001b[1;31m---------------------------------------------------------------------------\u001b[0m",
      "\u001b[1;31mAssertionError\u001b[0m                            Traceback (most recent call last)",
      "\u001b[1;32m<ipython-input-12-8a0a4c8db1ec>\u001b[0m in \u001b[0;36m<module>\u001b[1;34m\u001b[0m\n\u001b[0;32m      2\u001b[0m \u001b[0mdevice\u001b[0m \u001b[1;33m=\u001b[0m \u001b[0mtorch\u001b[0m\u001b[1;33m.\u001b[0m\u001b[0mdevice\u001b[0m\u001b[1;33m(\u001b[0m\u001b[1;34m\"cuda:0\"\u001b[0m\u001b[1;33m)\u001b[0m\u001b[1;33m\u001b[0m\u001b[1;33m\u001b[0m\u001b[0m\n\u001b[0;32m      3\u001b[0m \u001b[0mmodel\u001b[0m \u001b[1;33m=\u001b[0m \u001b[0mtimm\u001b[0m\u001b[1;33m.\u001b[0m\u001b[0mcreate_model\u001b[0m\u001b[1;33m(\u001b[0m\u001b[1;34m'efficientnet_b2'\u001b[0m\u001b[1;33m,\u001b[0m \u001b[0mpretrained\u001b[0m \u001b[1;33m=\u001b[0m \u001b[1;32mTrue\u001b[0m\u001b[1;33m)\u001b[0m\u001b[1;33m\u001b[0m\u001b[1;33m\u001b[0m\u001b[0m\n\u001b[1;32m----> 4\u001b[1;33m \u001b[0mmodel\u001b[0m \u001b[1;33m=\u001b[0m \u001b[0mmodel\u001b[0m\u001b[1;33m.\u001b[0m\u001b[0mto\u001b[0m\u001b[1;33m(\u001b[0m\u001b[0mdevice\u001b[0m\u001b[1;33m)\u001b[0m\u001b[1;33m\u001b[0m\u001b[1;33m\u001b[0m\u001b[0m\n\u001b[0m\u001b[0;32m      5\u001b[0m \u001b[0moptimizer\u001b[0m \u001b[1;33m=\u001b[0m \u001b[0mtorch\u001b[0m\u001b[1;33m.\u001b[0m\u001b[0moptim\u001b[0m\u001b[1;33m.\u001b[0m\u001b[0mAdam\u001b[0m\u001b[1;33m(\u001b[0m\u001b[0mmodel\u001b[0m\u001b[1;33m.\u001b[0m\u001b[0mparameters\u001b[0m\u001b[1;33m(\u001b[0m\u001b[1;33m)\u001b[0m\u001b[1;33m,\u001b[0m \u001b[0mlr\u001b[0m\u001b[1;33m=\u001b[0m\u001b[0margs\u001b[0m\u001b[1;33m.\u001b[0m\u001b[0mlr\u001b[0m\u001b[1;33m)\u001b[0m\u001b[1;33m\u001b[0m\u001b[1;33m\u001b[0m\u001b[0m\n\u001b[0;32m      6\u001b[0m \u001b[0mcriterion\u001b[0m \u001b[1;33m=\u001b[0m \u001b[0mtorch\u001b[0m\u001b[1;33m.\u001b[0m\u001b[0mnn\u001b[0m\u001b[1;33m.\u001b[0m\u001b[0mCrossEntropyLoss\u001b[0m\u001b[1;33m(\u001b[0m\u001b[1;33m)\u001b[0m\u001b[1;33m\u001b[0m\u001b[1;33m\u001b[0m\u001b[0m\n",
      "\u001b[1;32m~\\anaconda3\\lib\\site-packages\\torch\\nn\\modules\\module.py\u001b[0m in \u001b[0;36mto\u001b[1;34m(self, *args, **kwargs)\u001b[0m\n\u001b[0;32m    850\u001b[0m             \u001b[1;32mreturn\u001b[0m \u001b[0mt\u001b[0m\u001b[1;33m.\u001b[0m\u001b[0mto\u001b[0m\u001b[1;33m(\u001b[0m\u001b[0mdevice\u001b[0m\u001b[1;33m,\u001b[0m \u001b[0mdtype\u001b[0m \u001b[1;32mif\u001b[0m \u001b[0mt\u001b[0m\u001b[1;33m.\u001b[0m\u001b[0mis_floating_point\u001b[0m\u001b[1;33m(\u001b[0m\u001b[1;33m)\u001b[0m \u001b[1;32mor\u001b[0m \u001b[0mt\u001b[0m\u001b[1;33m.\u001b[0m\u001b[0mis_complex\u001b[0m\u001b[1;33m(\u001b[0m\u001b[1;33m)\u001b[0m \u001b[1;32melse\u001b[0m \u001b[1;32mNone\u001b[0m\u001b[1;33m,\u001b[0m \u001b[0mnon_blocking\u001b[0m\u001b[1;33m)\u001b[0m\u001b[1;33m\u001b[0m\u001b[1;33m\u001b[0m\u001b[0m\n\u001b[0;32m    851\u001b[0m \u001b[1;33m\u001b[0m\u001b[0m\n\u001b[1;32m--> 852\u001b[1;33m         \u001b[1;32mreturn\u001b[0m \u001b[0mself\u001b[0m\u001b[1;33m.\u001b[0m\u001b[0m_apply\u001b[0m\u001b[1;33m(\u001b[0m\u001b[0mconvert\u001b[0m\u001b[1;33m)\u001b[0m\u001b[1;33m\u001b[0m\u001b[1;33m\u001b[0m\u001b[0m\n\u001b[0m\u001b[0;32m    853\u001b[0m \u001b[1;33m\u001b[0m\u001b[0m\n\u001b[0;32m    854\u001b[0m     def register_backward_hook(\n",
      "\u001b[1;32m~\\anaconda3\\lib\\site-packages\\torch\\nn\\modules\\module.py\u001b[0m in \u001b[0;36m_apply\u001b[1;34m(self, fn)\u001b[0m\n\u001b[0;32m    528\u001b[0m     \u001b[1;32mdef\u001b[0m \u001b[0m_apply\u001b[0m\u001b[1;33m(\u001b[0m\u001b[0mself\u001b[0m\u001b[1;33m,\u001b[0m \u001b[0mfn\u001b[0m\u001b[1;33m)\u001b[0m\u001b[1;33m:\u001b[0m\u001b[1;33m\u001b[0m\u001b[1;33m\u001b[0m\u001b[0m\n\u001b[0;32m    529\u001b[0m         \u001b[1;32mfor\u001b[0m \u001b[0mmodule\u001b[0m \u001b[1;32min\u001b[0m \u001b[0mself\u001b[0m\u001b[1;33m.\u001b[0m\u001b[0mchildren\u001b[0m\u001b[1;33m(\u001b[0m\u001b[1;33m)\u001b[0m\u001b[1;33m:\u001b[0m\u001b[1;33m\u001b[0m\u001b[1;33m\u001b[0m\u001b[0m\n\u001b[1;32m--> 530\u001b[1;33m             \u001b[0mmodule\u001b[0m\u001b[1;33m.\u001b[0m\u001b[0m_apply\u001b[0m\u001b[1;33m(\u001b[0m\u001b[0mfn\u001b[0m\u001b[1;33m)\u001b[0m\u001b[1;33m\u001b[0m\u001b[1;33m\u001b[0m\u001b[0m\n\u001b[0m\u001b[0;32m    531\u001b[0m \u001b[1;33m\u001b[0m\u001b[0m\n\u001b[0;32m    532\u001b[0m         \u001b[1;32mdef\u001b[0m \u001b[0mcompute_should_use_set_data\u001b[0m\u001b[1;33m(\u001b[0m\u001b[0mtensor\u001b[0m\u001b[1;33m,\u001b[0m \u001b[0mtensor_applied\u001b[0m\u001b[1;33m)\u001b[0m\u001b[1;33m:\u001b[0m\u001b[1;33m\u001b[0m\u001b[1;33m\u001b[0m\u001b[0m\n",
      "\u001b[1;32m~\\anaconda3\\lib\\site-packages\\torch\\nn\\modules\\module.py\u001b[0m in \u001b[0;36m_apply\u001b[1;34m(self, fn)\u001b[0m\n\u001b[0;32m    550\u001b[0m                 \u001b[1;31m# `with torch.no_grad():`\u001b[0m\u001b[1;33m\u001b[0m\u001b[1;33m\u001b[0m\u001b[1;33m\u001b[0m\u001b[0m\n\u001b[0;32m    551\u001b[0m                 \u001b[1;32mwith\u001b[0m \u001b[0mtorch\u001b[0m\u001b[1;33m.\u001b[0m\u001b[0mno_grad\u001b[0m\u001b[1;33m(\u001b[0m\u001b[1;33m)\u001b[0m\u001b[1;33m:\u001b[0m\u001b[1;33m\u001b[0m\u001b[1;33m\u001b[0m\u001b[0m\n\u001b[1;32m--> 552\u001b[1;33m                     \u001b[0mparam_applied\u001b[0m \u001b[1;33m=\u001b[0m \u001b[0mfn\u001b[0m\u001b[1;33m(\u001b[0m\u001b[0mparam\u001b[0m\u001b[1;33m)\u001b[0m\u001b[1;33m\u001b[0m\u001b[1;33m\u001b[0m\u001b[0m\n\u001b[0m\u001b[0;32m    553\u001b[0m                 \u001b[0mshould_use_set_data\u001b[0m \u001b[1;33m=\u001b[0m \u001b[0mcompute_should_use_set_data\u001b[0m\u001b[1;33m(\u001b[0m\u001b[0mparam\u001b[0m\u001b[1;33m,\u001b[0m \u001b[0mparam_applied\u001b[0m\u001b[1;33m)\u001b[0m\u001b[1;33m\u001b[0m\u001b[1;33m\u001b[0m\u001b[0m\n\u001b[0;32m    554\u001b[0m                 \u001b[1;32mif\u001b[0m \u001b[0mshould_use_set_data\u001b[0m\u001b[1;33m:\u001b[0m\u001b[1;33m\u001b[0m\u001b[1;33m\u001b[0m\u001b[0m\n",
      "\u001b[1;32m~\\anaconda3\\lib\\site-packages\\torch\\nn\\modules\\module.py\u001b[0m in \u001b[0;36mconvert\u001b[1;34m(t)\u001b[0m\n\u001b[0;32m    848\u001b[0m                 return t.to(device, dtype if t.is_floating_point() or t.is_complex() else None,\n\u001b[0;32m    849\u001b[0m                             non_blocking, memory_format=convert_to_format)\n\u001b[1;32m--> 850\u001b[1;33m             \u001b[1;32mreturn\u001b[0m \u001b[0mt\u001b[0m\u001b[1;33m.\u001b[0m\u001b[0mto\u001b[0m\u001b[1;33m(\u001b[0m\u001b[0mdevice\u001b[0m\u001b[1;33m,\u001b[0m \u001b[0mdtype\u001b[0m \u001b[1;32mif\u001b[0m \u001b[0mt\u001b[0m\u001b[1;33m.\u001b[0m\u001b[0mis_floating_point\u001b[0m\u001b[1;33m(\u001b[0m\u001b[1;33m)\u001b[0m \u001b[1;32mor\u001b[0m \u001b[0mt\u001b[0m\u001b[1;33m.\u001b[0m\u001b[0mis_complex\u001b[0m\u001b[1;33m(\u001b[0m\u001b[1;33m)\u001b[0m \u001b[1;32melse\u001b[0m \u001b[1;32mNone\u001b[0m\u001b[1;33m,\u001b[0m \u001b[0mnon_blocking\u001b[0m\u001b[1;33m)\u001b[0m\u001b[1;33m\u001b[0m\u001b[1;33m\u001b[0m\u001b[0m\n\u001b[0m\u001b[0;32m    851\u001b[0m \u001b[1;33m\u001b[0m\u001b[0m\n\u001b[0;32m    852\u001b[0m         \u001b[1;32mreturn\u001b[0m \u001b[0mself\u001b[0m\u001b[1;33m.\u001b[0m\u001b[0m_apply\u001b[0m\u001b[1;33m(\u001b[0m\u001b[0mconvert\u001b[0m\u001b[1;33m)\u001b[0m\u001b[1;33m\u001b[0m\u001b[1;33m\u001b[0m\u001b[0m\n",
      "\u001b[1;32m~\\anaconda3\\lib\\site-packages\\torch\\cuda\\__init__.py\u001b[0m in \u001b[0;36m_lazy_init\u001b[1;34m()\u001b[0m\n\u001b[0;32m    164\u001b[0m                 \"multiprocessing, you must use the 'spawn' start method\")\n\u001b[0;32m    165\u001b[0m         \u001b[1;32mif\u001b[0m \u001b[1;32mnot\u001b[0m \u001b[0mhasattr\u001b[0m\u001b[1;33m(\u001b[0m\u001b[0mtorch\u001b[0m\u001b[1;33m.\u001b[0m\u001b[0m_C\u001b[0m\u001b[1;33m,\u001b[0m \u001b[1;34m'_cuda_getDeviceCount'\u001b[0m\u001b[1;33m)\u001b[0m\u001b[1;33m:\u001b[0m\u001b[1;33m\u001b[0m\u001b[1;33m\u001b[0m\u001b[0m\n\u001b[1;32m--> 166\u001b[1;33m             \u001b[1;32mraise\u001b[0m \u001b[0mAssertionError\u001b[0m\u001b[1;33m(\u001b[0m\u001b[1;34m\"Torch not compiled with CUDA enabled\"\u001b[0m\u001b[1;33m)\u001b[0m\u001b[1;33m\u001b[0m\u001b[1;33m\u001b[0m\u001b[0m\n\u001b[0m\u001b[0;32m    167\u001b[0m         \u001b[1;32mif\u001b[0m \u001b[0m_cudart\u001b[0m \u001b[1;32mis\u001b[0m \u001b[1;32mNone\u001b[0m\u001b[1;33m:\u001b[0m\u001b[1;33m\u001b[0m\u001b[1;33m\u001b[0m\u001b[0m\n\u001b[0;32m    168\u001b[0m             raise AssertionError(\n",
      "\u001b[1;31mAssertionError\u001b[0m: Torch not compiled with CUDA enabled"
     ]
    }
   ],
   "source": [
    "# creates efficientnet-b0 architecture\n",
    "device = torch.device(\"cuda:0\")\n",
    "model = timm.create_model('efficientnet_b2', pretrained = True)\n",
    "model = model.to(device)\n",
    "optimizer = torch.optim.Adam(model.parameters(), lr=args.lr)\n",
    "criterion = torch.nn.CrossEntropyLoss()"
   ]
  },
  {
   "cell_type": "markdown",
   "metadata": {},
   "source": [
    "<a id=\"section-two\"></a>\n",
    "# LR Schedulers"
   ]
  },
  {
   "cell_type": "code",
   "execution_count": 13,
   "metadata": {
    "execution": {
     "iopub.execute_input": "2021-06-10T06:46:23.29531Z",
     "iopub.status.busy": "2021-06-10T06:46:23.294931Z",
     "iopub.status.idle": "2021-06-10T06:46:23.301457Z",
     "shell.execute_reply": "2021-06-10T06:46:23.300356Z",
     "shell.execute_reply.started": "2021-06-10T06:46:23.295273Z"
    }
   },
   "outputs": [
    {
     "ename": "NameError",
     "evalue": "name 'optimizer' is not defined",
     "output_type": "error",
     "traceback": [
      "\u001b[1;31m---------------------------------------------------------------------------\u001b[0m",
      "\u001b[1;31mNameError\u001b[0m                                 Traceback (most recent call last)",
      "\u001b[1;32m<ipython-input-13-a5cf098e1bff>\u001b[0m in \u001b[0;36m<module>\u001b[1;34m\u001b[0m\n\u001b[0;32m      7\u001b[0m \u001b[1;33m\u001b[0m\u001b[0m\n\u001b[0;32m      8\u001b[0m scheduler = CosineLRScheduler(\n\u001b[1;32m----> 9\u001b[1;33m             \u001b[0moptimizer\u001b[0m\u001b[1;33m,\u001b[0m\u001b[1;33m\u001b[0m\u001b[1;33m\u001b[0m\u001b[0m\n\u001b[0m\u001b[0;32m     10\u001b[0m             \u001b[0mt_initial\u001b[0m\u001b[1;33m=\u001b[0m \u001b[0mn_steps\u001b[0m \u001b[1;33m*\u001b[0m \u001b[0mn_epochs\u001b[0m \u001b[1;33m+\u001b[0m \u001b[1;36m1\u001b[0m\u001b[1;33m,\u001b[0m\u001b[1;33m\u001b[0m\u001b[1;33m\u001b[0m\u001b[0m\n\u001b[0;32m     11\u001b[0m             \u001b[0mlr_min\u001b[0m\u001b[1;33m=\u001b[0m\u001b[1;36m0.00001\u001b[0m\u001b[1;33m,\u001b[0m\u001b[1;33m\u001b[0m\u001b[1;33m\u001b[0m\u001b[0m\n",
      "\u001b[1;31mNameError\u001b[0m: name 'optimizer' is not defined"
     ]
    }
   ],
   "source": [
    "# Create a scheduler which will warmup and cooldown over 20 epochs.\n",
    "from timm.scheduler.cosine_lr import CosineLRScheduler\n",
    "\n",
    "n_epochs = 20\n",
    "n_warmup_epochs = 2\n",
    "n_steps = len(trnloader)\n",
    "\n",
    "scheduler = CosineLRScheduler(\n",
    "            optimizer,\n",
    "            t_initial= n_steps * n_epochs + 1,\n",
    "            lr_min=0.00001,\n",
    "            warmup_lr_init=0.00001,\n",
    "            warmup_t= n_steps * n_warmup_epochs + 1)"
   ]
  },
  {
   "cell_type": "code",
   "execution_count": null,
   "metadata": {
    "execution": {
     "iopub.execute_input": "2021-06-10T06:46:23.303408Z",
     "iopub.status.busy": "2021-06-10T06:46:23.302984Z",
     "iopub.status.idle": "2021-06-10T06:46:23.760154Z",
     "shell.execute_reply": "2021-06-10T06:46:23.759368Z",
     "shell.execute_reply.started": "2021-06-10T06:46:23.303357Z"
    }
   },
   "outputs": [],
   "source": [
    "# Let's visualise how this changes the LR\n",
    "lrls = []\n",
    "global_step = 0\n",
    "for epoch in range(n_epochs):\n",
    "    for step in range(len(trnloader)):\n",
    "        #train_step(...)\n",
    "        scheduler.step(global_step)\n",
    "        global_step+=1\n",
    "        lrls.append(optimizer.param_groups[0]['lr']) \n",
    "    #validate_epoch(...)\n",
    "# Plot\n",
    "ax = pd.Series(lrls).plot(logy=True, figsize = (10, 4))\n",
    "for i in range(0,n_epochs*n_steps+1,n_steps) : ax.axvline(i, linewidth=0.2, color='r', linestyle='--')\n",
    "ax.set_xlabel(\"steps\")\n",
    "ax.set_ylabel(\"LR (log scale)\")"
   ]
  },
  {
   "cell_type": "markdown",
   "metadata": {},
   "source": [
    "##### Cosine Annealing is a type of learning rate schedule that has the effect of starting with a large learning rate that is relatively rapidly decreased to a minimum value before being increased rapidly again. The resetting of the learning rate acts like a simulated restart of the learning process and the re-use of good weights as the starting point of the restart is referred to as a \"warm restart\" in contrast to a \"cold restart\" where a new set of small random numbers may be used as a starting point."
   ]
  },
  {
   "cell_type": "code",
   "execution_count": null,
   "metadata": {
    "execution": {
     "iopub.execute_input": "2021-06-10T06:46:23.761666Z",
     "iopub.status.busy": "2021-06-10T06:46:23.761314Z",
     "iopub.status.idle": "2021-06-10T06:46:24.775501Z",
     "shell.execute_reply": "2021-06-10T06:46:24.774714Z",
     "shell.execute_reply.started": "2021-06-10T06:46:23.761639Z"
    }
   },
   "outputs": [],
   "source": [
    "lrls = []\n",
    "global_step = 0\n",
    "for epoch in range(n_epochs * 6):\n",
    "    for step in range(len(trnloader)):\n",
    "        #train_step(...)\n",
    "        scheduler.step(global_step)\n",
    "        global_step+=1\n",
    "        lrls.append(optimizer.param_groups[0]['lr']) \n",
    "    #validate_epoch(...)\n",
    "# Plot\n",
    "ax = pd.Series(lrls).plot(logy=True, figsize = (10, 4))\n",
    "for i in range(0,n_epochs * 6 *n_steps+1,n_steps) : ax.axvline(i, linewidth=0.2, color='r', linestyle='--')\n",
    "ax.set_xlabel(\"steps\")\n",
    "ax.set_ylabel(\"LR (log scale)\")"
   ]
  },
  {
   "cell_type": "markdown",
   "metadata": {},
   "source": [
    "<a id=\"#subsection-two-one\"></a>\n",
    "### Question : Can you implement a cosine learning rate schedule which has 4 epochs warmup and reaches a minimum at 15 epochs, using the n_steps from `trnloader`. "
   ]
  },
  {
   "cell_type": "code",
   "execution_count": null,
   "metadata": {},
   "outputs": [],
   "source": []
  },
  {
   "cell_type": "code",
   "execution_count": null,
   "metadata": {},
   "outputs": [],
   "source": []
  },
  {
   "cell_type": "markdown",
   "metadata": {},
   "source": [
    "<a id=\"section-three\"></a>\n",
    "## Mixup"
   ]
  },
  {
   "cell_type": "code",
   "execution_count": null,
   "metadata": {
    "execution": {
     "iopub.execute_input": "2021-06-10T06:46:24.777097Z",
     "iopub.status.busy": "2021-06-10T06:46:24.776755Z",
     "iopub.status.idle": "2021-06-10T06:46:24.782871Z",
     "shell.execute_reply": "2021-06-10T06:46:24.781993Z",
     "shell.execute_reply.started": "2021-06-10T06:46:24.77706Z"
    },
    "jupyter": {
     "source_hidden": true
    }
   },
   "outputs": [],
   "source": [
    "ImageIpython(url= \"https://forums.fast.ai/uploads/default/original/3X/4/b/4b00023c65aa58fbe58b02271de08949e53c64b9.png\")"
   ]
  },
  {
   "cell_type": "code",
   "execution_count": null,
   "metadata": {
    "execution": {
     "iopub.execute_input": "2021-06-10T06:46:24.78475Z",
     "iopub.status.busy": "2021-06-10T06:46:24.784354Z",
     "iopub.status.idle": "2021-06-10T06:46:24.863155Z",
     "shell.execute_reply": "2021-06-10T06:46:24.862294Z",
     "shell.execute_reply.started": "2021-06-10T06:46:24.784711Z"
    }
   },
   "outputs": [],
   "source": [
    "# Lets try this very simply. \n",
    "img1 = cv2.imread(f'../input/midsw251birds/{trndf.iloc[0].filename}')\n",
    "img2 = cv2.imread(f'../input/midsw251birds/{trndf.iloc[1].filename}')\n",
    "mixup_alpha = 0.6\n",
    "img_mixed = (img1 * mixup_alpha + img2 * (1-mixup_alpha)).astype(np.uint8)\n",
    "Image.fromarray(np.concatenate([img1,img2,img_mixed], 1))"
   ]
  },
  {
   "cell_type": "code",
   "execution_count": null,
   "metadata": {
    "execution": {
     "iopub.execute_input": "2021-06-10T06:46:24.864847Z",
     "iopub.status.busy": "2021-06-10T06:46:24.864509Z"
    }
   },
   "outputs": [],
   "source": [
    "beta = 1.0\n",
    "\n",
    "for step, batch in enumerate(trnloader):\n",
    "    if step > 20: \n",
    "        break\n",
    "    inputs = batch[0].to(device, dtype=torch.float)\n",
    "    labels = batch[1].to(device).long()\n",
    "    \n",
    "    # Get out a random value form a distribution    \n",
    "    lam = np.random.beta(beta, beta)\n",
    "    rand_index = torch.randperm(inputs.size()[0]).to(device) # make an index which reorders the batch\n",
    "    \n",
    "    # Reorder the labels\n",
    "    labels_a = labels\n",
    "    labels_b = labels[rand_index]\n",
    "    \n",
    "    # Partially mixup up the batch\n",
    "    inputs_mixed = lam * inputs + (1 - lam) * inputs[rand_index]\n",
    "    \n",
    "    optimizer.zero_grad()\n",
    "    output = model(inputs_mixed)\n",
    "    \n",
    "    # Partial loss against original labels, partial loss against mixed up labels\n",
    "    loss = criterion(output, labels_a) * lam + criterion(output, labels_b) * (1. - lam)\n",
    "    loss.backward()\n",
    "    optimizer.step()\n",
    "    \n",
    "    # Note, do not mixup your validation or test data !! Just train, make the model sweat....\n",
    "\n",
    "    "
   ]
  },
  {
   "cell_type": "markdown",
   "metadata": {},
   "source": [
    "### Questions \n",
    "Can you plot the different distributions of `lam`. (Something like ... `pd.Series([np.random.beta(beta, beta) for i in range(1000)]).hist(bins=100)`).   \n",
    "Why would we us larger or smaller values of `lam` ?   \n",
    "Can you understand how the loss is calculated above, and why ?   \n",
    "Can you guess how you would implement cutmix in the example above ?"
   ]
  },
  {
   "cell_type": "code",
   "execution_count": null,
   "metadata": {},
   "outputs": [],
   "source": []
  },
  {
   "cell_type": "code",
   "execution_count": null,
   "metadata": {},
   "outputs": [],
   "source": []
  },
  {
   "cell_type": "markdown",
   "metadata": {},
   "source": [
    "<a id=\"section-four\"></a>\n",
    "# Different Architectures"
   ]
  },
  {
   "cell_type": "markdown",
   "metadata": {},
   "source": [
    "#### Above we chose to work with efficientnet-b0, can you initialise a pretrained `mixnet-xl` model ? Tip, check the results table [here](https://github.com/rwightman/pytorch-image-models/blob/master/results/results-imagenet.csv)"
   ]
  },
  {
   "cell_type": "code",
   "execution_count": null,
   "metadata": {},
   "outputs": [],
   "source": [
    "model = timm.create_model('efficientnet_b2', pretrained = True)"
   ]
  },
  {
   "cell_type": "markdown",
   "metadata": {},
   "source": [
    "#### Our model still has 1000 classes outputted. How would you initialise it with 10 classes in one line of code. Tip, try checking https://fastai.github.io/timmdocs/"
   ]
  },
  {
   "cell_type": "code",
   "execution_count": null,
   "metadata": {},
   "outputs": [],
   "source": []
  },
  {
   "cell_type": "code",
   "execution_count": null,
   "metadata": {},
   "outputs": [],
   "source": []
  },
  {
   "cell_type": "code",
   "execution_count": null,
   "metadata": {},
   "outputs": [],
   "source": []
  },
  {
   "cell_type": "markdown",
   "metadata": {},
   "source": [
    "<a id=\"section-five\"></a>\n",
    "# Mixed Precision Training"
   ]
  },
  {
   "cell_type": "code",
   "execution_count": null,
   "metadata": {
    "_kg_hide-input": true,
    "jupyter": {
     "source_hidden": true
    }
   },
   "outputs": [],
   "source": [
    "ImageIpython(url= \"https://developer-blogs.nvidia.com/wp-content/uploads/2019/10/Screen-Shot-2019-10-18-at-7.31.09-AM-624x328.png\")"
   ]
  },
  {
   "cell_type": "markdown",
   "metadata": {},
   "source": [
    "### Can you implement mixed precision in the below training loop. Tip : Check [this](https://pytorch.org/docs/stable/notes/amp_examples.html#typical-mixed-precision-training) example. You will need to comment out some of the below lines, its not too tough.\n",
    "### See how large you can make your batchsize with mixed precision, and without mixed precision (you may need ot restart the kernels a few times.)"
   ]
  },
  {
   "cell_type": "code",
   "execution_count": null,
   "metadata": {},
   "outputs": [],
   "source": [
    "from torch.cuda.amp import autocast, GradScaler\n",
    "\n",
    "model.to(device)\n",
    "model.train()\n",
    "\n",
    "for step, batch in enumerate(trnloader):\n",
    "    if step > 20:\n",
    "        break\n",
    "    inputs = batch[0].to(device, dtype=torch.float)\n",
    "    labels = batch[1].to(device).long()\n",
    "    optimizer.zero_grad()\n",
    "    outputs = model(inputs)\n",
    "    loss = criterion(outputs, labels)\n",
    "    loss.backward()\n",
    "    optimizer.step()"
   ]
  },
  {
   "cell_type": "code",
   "execution_count": null,
   "metadata": {},
   "outputs": [],
   "source": []
  },
  {
   "cell_type": "code",
   "execution_count": null,
   "metadata": {},
   "outputs": [],
   "source": []
  },
  {
   "cell_type": "markdown",
   "metadata": {},
   "source": [
    "<a id=\"section-six\"></a>\n",
    "# Label Smoothing\n",
    "The generalization and learning speed of a multi-class neural network can often\n",
    "be significantly improved by using soft targets that are a weighted average of the\n",
    "hard targets and the uniform distribution over labels. Smoothing the labels in this\n",
    "way prevents the network from becoming over-confident and label smoothing has\n",
    "been used in many state-of-the-art models,"
   ]
  },
  {
   "cell_type": "code",
   "execution_count": null,
   "metadata": {
    "jupyter": {
     "source_hidden": true
    }
   },
   "outputs": [],
   "source": [
    "ImageIpython(url= \"https://paperswithcode.com/media/methods/image3_1_oTiwmLN.png\")"
   ]
  },
  {
   "cell_type": "markdown",
   "metadata": {},
   "source": [
    "### Can you implement label smoothing in the below training loop. Tip : Check [this](https://github.com/pytorch/pytorch/issues/7455#issuecomment-513062631) or [this](https://github.com/pytorch/pytorch/issues/7455#issuecomment-759175034) example. "
   ]
  },
  {
   "cell_type": "code",
   "execution_count": null,
   "metadata": {},
   "outputs": [],
   "source": [
    "from torch.cuda.amp import autocast, GradScaler\n",
    "\n",
    "model.to(device)\n",
    "model.train()\n",
    "criterion = torch.nn.CrossEntropyLoss()\n",
    "\n",
    "for step, batch in enumerate(trnloader):\n",
    "    if step > 20:\n",
    "        break\n",
    "    inputs = batch[0].to(device, dtype=torch.float)\n",
    "    labels = batch[1].to(device).long()\n",
    "    optimizer.zero_grad()\n",
    "    outputs = model(inputs)\n",
    "    loss = criterion(outputs, labels)\n",
    "    loss.backward()\n",
    "    optimizer.step()"
   ]
  },
  {
   "cell_type": "code",
   "execution_count": null,
   "metadata": {},
   "outputs": [],
   "source": []
  },
  {
   "cell_type": "code",
   "execution_count": null,
   "metadata": {},
   "outputs": [],
   "source": []
  }
 ],
 "metadata": {
  "kernelspec": {
   "display_name": "Python 3",
   "language": "python",
   "name": "python3"
  },
  "language_info": {
   "codemirror_mode": {
    "name": "ipython",
    "version": 3
   },
   "file_extension": ".py",
   "mimetype": "text/x-python",
   "name": "python",
   "nbconvert_exporter": "python",
   "pygments_lexer": "ipython3",
   "version": "3.7.6"
  }
 },
 "nbformat": 4,
 "nbformat_minor": 4
}
